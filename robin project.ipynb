{
 "cells": [
  {
   "cell_type": "code",
   "execution_count": 2,
   "id": "8072fa07-7e4a-425a-a101-a9ea95021dcf",
   "metadata": {},
   "outputs": [
    {
     "name": "stdout",
     "output_type": "stream",
     "text": [
      "robin\n",
      "robin\n",
      "robin\n"
     ]
    }
   ],
   "source": [
    "i=0\n",
    "while i<3:\n",
    "    print(\"robin\")\n",
    "    i=i+1"
   ]
  },
  {
   "cell_type": "code",
   "execution_count": 8,
   "id": "5df77a5b-2e47-4a1f-aa30-0c2ab4ba1f59",
   "metadata": {},
   "outputs": [
    {
     "name": "stdout",
     "output_type": "stream",
     "text": [
      "robin\n",
      "robin\n",
      "robin\n"
     ]
    }
   ],
   "source": [
    "for _ in range(3):\n",
    " print(\"robin\")"
   ]
  },
  {
   "cell_type": "code",
   "execution_count": 9,
   "id": "734336c3-6b59-45c6-9450-954b67f5bf3c",
   "metadata": {},
   "outputs": [
    {
     "name": "stdout",
     "output_type": "stream",
     "text": [
      "['robin', 'ruban', 'rakesh']\n"
     ]
    }
   ],
   "source": [
    "students=[\"robin\",\"ruban\",\"rakesh\"]\n",
    "print(students)"
   ]
  },
  {
   "cell_type": "code",
   "execution_count": 13,
   "id": "eb22acba-6ba9-40dc-a962-7e3c9bb4f8f4",
   "metadata": {},
   "outputs": [
    {
     "name": "stdout",
     "output_type": "stream",
     "text": [
      "['robin', 'ruban', 'rakesh']\n",
      "['robin', 'ruban', 'rakesh']\n",
      "['robin', 'ruban', 'rakesh']\n"
     ]
    }
   ],
   "source": [
    "students=[\"robin\",\"ruban\",\"rakesh\"]\n",
    "for i in range(len(students)):\n",
    "    print(students[i])"
   ]
  },
  {
   "cell_type": "code",
   "execution_count": 15,
   "id": "7ef61d6d-9200-42e2-abb8-60eef8f176b3",
   "metadata": {},
   "outputs": [],
   "source": [
    "#if we given the (i) value it takes the particular value and prints the each by word "
   ]
  },
  {
   "cell_type": "code",
   "execution_count": 9,
   "id": "36eb8f2a-c363-4161-ac37-5ca0f078648b",
   "metadata": {},
   "outputs": [
    {
     "name": "stdout",
     "output_type": "stream",
     "text": [
      "['robin', 'ruban', 'rakesh']\n",
      "['robin', 'ruban', 'rakesh']\n",
      "['robin', 'ruban', 'rakesh']\n"
     ]
    }
   ],
   "source": [
    "students=[\"robin\",\"ruban\",\"rakesh\"]\n",
    "for i in range(len(students)):\n",
    "    print(students)#"
   ]
  },
  {
   "cell_type": "code",
   "execution_count": 21,
   "id": "22d7406d-f58d-4391-a77a-f07a0826fa6f",
   "metadata": {},
   "outputs": [],
   "source": [
    "#if we not given [i] it takes the whole value,if we given the [i] value it takes the individual value ,each by each\n"
   ]
  },
  {
   "cell_type": "code",
   "execution_count": 7,
   "id": "127412ba-80a3-4f7e-a6a5-92ea9c429430",
   "metadata": {},
   "outputs": [
    {
     "name": "stdout",
     "output_type": "stream",
     "text": [
      "['science', 'maths']\n"
     ]
    }
   ],
   "source": [
    "subjects=[\"science\",\"maths\",\"tamil\",\"python\"]\n",
    "print (subjects[0:2])"
   ]
  },
  {
   "cell_type": "code",
   "execution_count": 11,
   "id": "88ed774c-1305-45cb-9e30-b9b1e26f5bf5",
   "metadata": {},
   "outputs": [
    {
     "name": "stdout",
     "output_type": "stream",
     "text": [
      "['science', 'maths', 'tamil', 'python']\n"
     ]
    }
   ],
   "source": [
    "subjects=[\"science\",\"maths\",\"tamil\",\"python\"]\n",
    "print (subjects)"
   ]
  },
  {
   "cell_type": "code",
   "execution_count": 29,
   "id": "b1461d4a-8ab3-4366-8778-3df78c0d35e0",
   "metadata": {},
   "outputs": [
    {
     "name": "stdout",
     "output_type": "stream",
     "text": [
      "1 science\n",
      "2 maths\n",
      "3 tamil\n",
      "4 python\n"
     ]
    }
   ],
   "source": [
    "subjects=[\"science\",\"maths\",\"tamil\",\"python\"]\n",
    "for i in range(len(subjects)):\n",
    "    print(i+1,subjects[i])\n"
   ]
  },
  {
   "cell_type": "code",
   "execution_count": null,
   "id": "68c1faa1-0b25-4965-9a28-6d25b88b1ae7",
   "metadata": {},
   "outputs": [],
   "source": [
    "#here we given i+1,so it gives the value from 1-4,as per looping , len starts from 1"
   ]
  },
  {
   "cell_type": "code",
   "execution_count": 1,
   "id": "773d9a75-bb7a-4b75-a838-4c6b2057ede8",
   "metadata": {},
   "outputs": [
    {
     "name": "stdout",
     "output_type": "stream",
     "text": [
      "0 science\n",
      "1 maths\n",
      "2 tamil\n",
      "3 python\n"
     ]
    }
   ],
   "source": [
    "subjects=[\"science\",\"maths\",\"tamil\",\"python\"]\n",
    "for i in range(len(subjects)):\n",
    "    print(i,subjects[i])"
   ]
  },
  {
   "cell_type": "code",
   "execution_count": 7,
   "id": "1a81cea3-5264-424a-9e64-5cd95e10f689",
   "metadata": {},
   "outputs": [],
   "source": [
    "##here we given i,so it gives the value from 0-3,as per common rule,as per for loop it takes from 0"
   ]
  },
  {
   "cell_type": "code",
   "execution_count": 15,
   "id": "6ee594c3-d86f-4eaf-962b-be367230dd47",
   "metadata": {},
   "outputs": [
    {
     "ename": "ModuleNotFoundError",
     "evalue": "No module named 'cowsay'",
     "output_type": "error",
     "traceback": [
      "\u001b[1;31m---------------------------------------------------------------------------\u001b[0m",
      "\u001b[1;31mModuleNotFoundError\u001b[0m                       Traceback (most recent call last)",
      "Cell \u001b[1;32mIn[15], line 1\u001b[0m\n\u001b[1;32m----> 1\u001b[0m \u001b[38;5;28;01mimport\u001b[39;00m \u001b[38;5;21;01mcowsay\u001b[39;00m\n\u001b[0;32m      2\u001b[0m \u001b[38;5;28;01mimport\u001b[39;00m \u001b[38;5;21;01msys\u001b[39;00m\n\u001b[0;32m      3\u001b[0m \u001b[38;5;28;01mif\u001b[39;00m \u001b[38;5;28mlen\u001b[39m(sys\u001b[38;5;241m.\u001b[39margv)\u001b[38;5;241m==\u001b[39m\u001b[38;5;241m2\u001b[39m:\n",
      "\u001b[1;31mModuleNotFoundError\u001b[0m: No module named 'cowsay'"
     ]
    }
   ],
   "source": [
    "import cowsay\n",
    "import sys\n",
    "if len(sys.argv)==2:\n",
    "    cowsay.trex(\"hello\"+sys.argv[1])"
   ]
  },
  {
   "cell_type": "code",
   "execution_count": 54,
   "id": "4c4feb60-6cb8-42da-a628-c23392370c71",
   "metadata": {},
   "outputs": [
    {
     "ename": "NameError",
     "evalue": "name 'name' is not defined",
     "output_type": "error",
     "traceback": [
      "\u001b[1;31m---------------------------------------------------------------------------\u001b[0m",
      "\u001b[1;31mNameError\u001b[0m                                 Traceback (most recent call last)",
      "Cell \u001b[1;32mIn[54], line 1\u001b[0m\n\u001b[1;32m----> 1\u001b[0m students\u001b[38;5;241m=\u001b[39m{name:robin}\n\u001b[0;32m      2\u001b[0m \u001b[38;5;28;01mfor\u001b[39;00m student \u001b[38;5;129;01min\u001b[39;00m students:\n\u001b[0;32m      3\u001b[0m     \u001b[38;5;28mprint\u001b[39m (student,students[student],sep\u001b[38;5;241m=\u001b[39m\u001b[38;5;124m\"\u001b[39m\u001b[38;5;124m,\u001b[39m\u001b[38;5;124m\"\u001b[39m)\n",
      "\u001b[1;31mNameError\u001b[0m: name 'name' is not defined"
     ]
    }
   ],
   "source": [
    "students={name:robin}\n",
    "for student in students:\n",
    "    print (student,students[student],sep=\",\")"
   ]
  },
  {
   "cell_type": "code",
   "execution_count": 1,
   "id": "508917ab-bb5e-4eba-a64f-f697152f7f2c",
   "metadata": {},
   "outputs": [
    {
     "ename": "NameError",
     "evalue": "name 're' is not defined",
     "output_type": "error",
     "traceback": [
      "\u001b[1;31m---------------------------------------------------------------------------\u001b[0m",
      "\u001b[1;31mNameError\u001b[0m                                 Traceback (most recent call last)",
      "Cell \u001b[1;32mIn[1], line 1\u001b[0m\n\u001b[1;32m----> 1\u001b[0m \u001b[38;5;28mprint\u001b[39m(help(re))\n",
      "\u001b[1;31mNameError\u001b[0m: name 're' is not defined"
     ]
    }
   ],
   "source": [
    "print(help(re))"
   ]
  },
  {
   "cell_type": "code",
   "execution_count": 3,
   "id": "da05bdf1-1ea5-4a07-a0ad-3ccbc7bd9a3a",
   "metadata": {},
   "outputs": [
    {
     "ename": "NameError",
     "evalue": "name 'Re' is not defined",
     "output_type": "error",
     "traceback": [
      "\u001b[1;31m---------------------------------------------------------------------------\u001b[0m",
      "\u001b[1;31mNameError\u001b[0m                                 Traceback (most recent call last)",
      "Cell \u001b[1;32mIn[3], line 1\u001b[0m\n\u001b[1;32m----> 1\u001b[0m \u001b[38;5;28mprint\u001b[39m(help(Re))\n",
      "\u001b[1;31mNameError\u001b[0m: name 'Re' is not defined"
     ]
    }
   ],
   "source": [
    "print(help(Re))"
   ]
  },
  {
   "cell_type": "code",
   "execution_count": 1,
   "id": "8e595b63-bdff-4d9b-ba65-99808ad6280a",
   "metadata": {},
   "outputs": [
    {
     "name": "stdout",
     "output_type": "stream",
     "text": [
      "Help on package re:\n",
      "\n",
      "NAME\n",
      "    re - Support for regular expressions (RE).\n",
      "\n",
      "MODULE REFERENCE\n",
      "    https://docs.python.org/3.11/library/re.html\n",
      "    \n",
      "    The following documentation is automatically generated from the Python\n",
      "    source files.  It may be incomplete, incorrect or include features that\n",
      "    are considered implementation detail and may vary between Python\n",
      "    implementations.  When in doubt, consult the module reference at the\n",
      "    location listed above.\n",
      "\n",
      "DESCRIPTION\n",
      "    This module provides regular expression matching operations similar to\n",
      "    those found in Perl.  It supports both 8-bit and Unicode strings; both\n",
      "    the pattern and the strings being processed can contain null bytes and\n",
      "    characters outside the US ASCII range.\n",
      "    \n",
      "    Regular expressions can contain both special and ordinary characters.\n",
      "    Most ordinary characters, like \"A\", \"a\", or \"0\", are the simplest\n",
      "    regular expressions; they simply match themselves.  You can\n",
      "    concatenate ordinary characters, so last matches the string 'last'.\n",
      "    \n",
      "    The special characters are:\n",
      "        \".\"      Matches any character except a newline.\n",
      "        \"^\"      Matches the start of the string.\n",
      "        \"$\"      Matches the end of the string or just before the newline at\n",
      "                 the end of the string.\n",
      "        \"*\"      Matches 0 or more (greedy) repetitions of the preceding RE.\n",
      "                 Greedy means that it will match as many repetitions as possible.\n",
      "        \"+\"      Matches 1 or more (greedy) repetitions of the preceding RE.\n",
      "        \"?\"      Matches 0 or 1 (greedy) of the preceding RE.\n",
      "        *?,+?,?? Non-greedy versions of the previous three special characters.\n",
      "        {m,n}    Matches from m to n repetitions of the preceding RE.\n",
      "        {m,n}?   Non-greedy version of the above.\n",
      "        \"\\\\\"     Either escapes special characters or signals a special sequence.\n",
      "        []       Indicates a set of characters.\n",
      "                 A \"^\" as the first character indicates a complementing set.\n",
      "        \"|\"      A|B, creates an RE that will match either A or B.\n",
      "        (...)    Matches the RE inside the parentheses.\n",
      "                 The contents can be retrieved or matched later in the string.\n",
      "        (?aiLmsux) The letters set the corresponding flags defined below.\n",
      "        (?:...)  Non-grouping version of regular parentheses.\n",
      "        (?P<name>...) The substring matched by the group is accessible by name.\n",
      "        (?P=name)     Matches the text matched earlier by the group named name.\n",
      "        (?#...)  A comment; ignored.\n",
      "        (?=...)  Matches if ... matches next, but doesn't consume the string.\n",
      "        (?!...)  Matches if ... doesn't match next.\n",
      "        (?<=...) Matches if preceded by ... (must be fixed length).\n",
      "        (?<!...) Matches if not preceded by ... (must be fixed length).\n",
      "        (?(id/name)yes|no) Matches yes pattern if the group with id/name matched,\n",
      "                           the (optional) no pattern otherwise.\n",
      "    \n",
      "    The special sequences consist of \"\\\\\" and a character from the list\n",
      "    below.  If the ordinary character is not on the list, then the\n",
      "    resulting RE will match the second character.\n",
      "        \\number  Matches the contents of the group of the same number.\n",
      "        \\A       Matches only at the start of the string.\n",
      "        \\Z       Matches only at the end of the string.\n",
      "        \\b       Matches the empty string, but only at the start or end of a word.\n",
      "        \\B       Matches the empty string, but not at the start or end of a word.\n",
      "        \\d       Matches any decimal digit; equivalent to the set [0-9] in\n",
      "                 bytes patterns or string patterns with the ASCII flag.\n",
      "                 In string patterns without the ASCII flag, it will match the whole\n",
      "                 range of Unicode digits.\n",
      "        \\D       Matches any non-digit character; equivalent to [^\\d].\n",
      "        \\s       Matches any whitespace character; equivalent to [ \\t\\n\\r\\f\\v] in\n",
      "                 bytes patterns or string patterns with the ASCII flag.\n",
      "                 In string patterns without the ASCII flag, it will match the whole\n",
      "                 range of Unicode whitespace characters.\n",
      "        \\S       Matches any non-whitespace character; equivalent to [^\\s].\n",
      "        \\w       Matches any alphanumeric character; equivalent to [a-zA-Z0-9_]\n",
      "                 in bytes patterns or string patterns with the ASCII flag.\n",
      "                 In string patterns without the ASCII flag, it will match the\n",
      "                 range of Unicode alphanumeric characters (letters plus digits\n",
      "                 plus underscore).\n",
      "                 With LOCALE, it will match the set [0-9_] plus characters defined\n",
      "                 as letters for the current locale.\n",
      "        \\W       Matches the complement of \\w.\n",
      "        \\\\       Matches a literal backslash.\n",
      "    \n",
      "    This module exports the following functions:\n",
      "        match     Match a regular expression pattern to the beginning of a string.\n",
      "        fullmatch Match a regular expression pattern to all of a string.\n",
      "        search    Search a string for the presence of a pattern.\n",
      "        sub       Substitute occurrences of a pattern found in a string.\n",
      "        subn      Same as sub, but also return the number of substitutions made.\n",
      "        split     Split a string by the occurrences of a pattern.\n",
      "        findall   Find all occurrences of a pattern in a string.\n",
      "        finditer  Return an iterator yielding a Match object for each match.\n",
      "        compile   Compile a pattern into a Pattern object.\n",
      "        purge     Clear the regular expression cache.\n",
      "        escape    Backslash all non-alphanumerics in a string.\n",
      "    \n",
      "    Each function other than purge and escape can take an optional 'flags' argument\n",
      "    consisting of one or more of the following module constants, joined by \"|\".\n",
      "    A, L, and U are mutually exclusive.\n",
      "        A  ASCII       For string patterns, make \\w, \\W, \\b, \\B, \\d, \\D\n",
      "                       match the corresponding ASCII character categories\n",
      "                       (rather than the whole Unicode categories, which is the\n",
      "                       default).\n",
      "                       For bytes patterns, this flag is the only available\n",
      "                       behaviour and needn't be specified.\n",
      "        I  IGNORECASE  Perform case-insensitive matching.\n",
      "        L  LOCALE      Make \\w, \\W, \\b, \\B, dependent on the current locale.\n",
      "        M  MULTILINE   \"^\" matches the beginning of lines (after a newline)\n",
      "                       as well as the string.\n",
      "                       \"$\" matches the end of lines (before a newline) as well\n",
      "                       as the end of the string.\n",
      "        S  DOTALL      \".\" matches any character at all, including the newline.\n",
      "        X  VERBOSE     Ignore whitespace and comments for nicer looking RE's.\n",
      "        U  UNICODE     For compatibility only. Ignored for string patterns (it\n",
      "                       is the default), and forbidden for bytes patterns.\n",
      "    \n",
      "    This module also defines an exception 'error'.\n",
      "\n",
      "PACKAGE CONTENTS\n",
      "    _casefix\n",
      "    _compiler\n",
      "    _constants\n",
      "    _parser\n",
      "\n",
      "CLASSES\n",
      "    builtins.Exception(builtins.BaseException)\n",
      "        error\n",
      "    builtins.object\n",
      "        Match\n",
      "        Pattern\n",
      "    enum.IntFlag(builtins.int, enum.ReprEnum, enum.Flag)\n",
      "        RegexFlag\n",
      "    \n",
      "    class Match(builtins.object)\n",
      "     |  The result of re.match() and re.search().\n",
      "     |  Match objects always have a boolean value of True.\n",
      "     |  \n",
      "     |  Methods defined here:\n",
      "     |  \n",
      "     |  __copy__(self, /)\n",
      "     |  \n",
      "     |  __deepcopy__(self, memo, /)\n",
      "     |  \n",
      "     |  __getitem__(self, key, /)\n",
      "     |      Return self[key].\n",
      "     |  \n",
      "     |  __repr__(self, /)\n",
      "     |      Return repr(self).\n",
      "     |  \n",
      "     |  end(self, group=0, /)\n",
      "     |      Return index of the end of the substring matched by group.\n",
      "     |  \n",
      "     |  expand(self, /, template)\n",
      "     |      Return the string obtained by doing backslash substitution on the string template, as done by the sub() method.\n",
      "     |  \n",
      "     |  group(...)\n",
      "     |      group([group1, ...]) -> str or tuple.\n",
      "     |      Return subgroup(s) of the match by indices or names.\n",
      "     |      For 0 returns the entire match.\n",
      "     |  \n",
      "     |  groupdict(self, /, default=None)\n",
      "     |      Return a dictionary containing all the named subgroups of the match, keyed by the subgroup name.\n",
      "     |      \n",
      "     |      default\n",
      "     |        Is used for groups that did not participate in the match.\n",
      "     |  \n",
      "     |  groups(self, /, default=None)\n",
      "     |      Return a tuple containing all the subgroups of the match, from 1.\n",
      "     |      \n",
      "     |      default\n",
      "     |        Is used for groups that did not participate in the match.\n",
      "     |  \n",
      "     |  span(self, group=0, /)\n",
      "     |      For match object m, return the 2-tuple (m.start(group), m.end(group)).\n",
      "     |  \n",
      "     |  start(self, group=0, /)\n",
      "     |      Return index of the start of the substring matched by group.\n",
      "     |  \n",
      "     |  ----------------------------------------------------------------------\n",
      "     |  Class methods defined here:\n",
      "     |  \n",
      "     |  __class_getitem__(...) from builtins.type\n",
      "     |      See PEP 585\n",
      "     |  \n",
      "     |  ----------------------------------------------------------------------\n",
      "     |  Data descriptors defined here:\n",
      "     |  \n",
      "     |  endpos\n",
      "     |      The index into the string beyond which the RE engine will not go.\n",
      "     |  \n",
      "     |  lastgroup\n",
      "     |      The name of the last matched capturing group.\n",
      "     |  \n",
      "     |  lastindex\n",
      "     |      The integer index of the last matched capturing group.\n",
      "     |  \n",
      "     |  pos\n",
      "     |      The index into the string at which the RE engine started looking for a match.\n",
      "     |  \n",
      "     |  re\n",
      "     |      The regular expression object.\n",
      "     |  \n",
      "     |  regs\n",
      "     |  \n",
      "     |  string\n",
      "     |      The string passed to match() or search().\n",
      "    \n",
      "    class Pattern(builtins.object)\n",
      "     |  Compiled regular expression object.\n",
      "     |  \n",
      "     |  Methods defined here:\n",
      "     |  \n",
      "     |  __copy__(self, /)\n",
      "     |  \n",
      "     |  __deepcopy__(self, memo, /)\n",
      "     |  \n",
      "     |  __eq__(self, value, /)\n",
      "     |      Return self==value.\n",
      "     |  \n",
      "     |  __ge__(self, value, /)\n",
      "     |      Return self>=value.\n",
      "     |  \n",
      "     |  __gt__(self, value, /)\n",
      "     |      Return self>value.\n",
      "     |  \n",
      "     |  __hash__(self, /)\n",
      "     |      Return hash(self).\n",
      "     |  \n",
      "     |  __le__(self, value, /)\n",
      "     |      Return self<=value.\n",
      "     |  \n",
      "     |  __lt__(self, value, /)\n",
      "     |      Return self<value.\n",
      "     |  \n",
      "     |  __ne__(self, value, /)\n",
      "     |      Return self!=value.\n",
      "     |  \n",
      "     |  __repr__(self, /)\n",
      "     |      Return repr(self).\n",
      "     |  \n",
      "     |  findall(self, /, string, pos=0, endpos=9223372036854775807)\n",
      "     |      Return a list of all non-overlapping matches of pattern in string.\n",
      "     |  \n",
      "     |  finditer(self, /, string, pos=0, endpos=9223372036854775807)\n",
      "     |      Return an iterator over all non-overlapping matches for the RE pattern in string.\n",
      "     |      \n",
      "     |      For each match, the iterator returns a match object.\n",
      "     |  \n",
      "     |  fullmatch(self, /, string, pos=0, endpos=9223372036854775807)\n",
      "     |      Matches against all of the string.\n",
      "     |  \n",
      "     |  match(self, /, string, pos=0, endpos=9223372036854775807)\n",
      "     |      Matches zero or more characters at the beginning of the string.\n",
      "     |  \n",
      "     |  scanner(self, /, string, pos=0, endpos=9223372036854775807)\n",
      "     |  \n",
      "     |  search(self, /, string, pos=0, endpos=9223372036854775807)\n",
      "     |      Scan through string looking for a match, and return a corresponding match object instance.\n",
      "     |      \n",
      "     |      Return None if no position in the string matches.\n",
      "     |  \n",
      "     |  split(self, /, string, maxsplit=0)\n",
      "     |      Split string by the occurrences of pattern.\n",
      "     |  \n",
      "     |  sub(self, /, repl, string, count=0)\n",
      "     |      Return the string obtained by replacing the leftmost non-overlapping occurrences of pattern in string by the replacement repl.\n",
      "     |  \n",
      "     |  subn(self, /, repl, string, count=0)\n",
      "     |      Return the tuple (new_string, number_of_subs_made) found by replacing the leftmost non-overlapping occurrences of pattern with the replacement repl.\n",
      "     |  \n",
      "     |  ----------------------------------------------------------------------\n",
      "     |  Class methods defined here:\n",
      "     |  \n",
      "     |  __class_getitem__(...) from builtins.type\n",
      "     |      See PEP 585\n",
      "     |  \n",
      "     |  ----------------------------------------------------------------------\n",
      "     |  Data descriptors defined here:\n",
      "     |  \n",
      "     |  flags\n",
      "     |      The regex matching flags.\n",
      "     |  \n",
      "     |  groupindex\n",
      "     |      A dictionary mapping group names to group numbers.\n",
      "     |  \n",
      "     |  groups\n",
      "     |      The number of capturing groups in the pattern.\n",
      "     |  \n",
      "     |  pattern\n",
      "     |      The pattern string from which the RE object was compiled.\n",
      "    \n",
      "    class RegexFlag(enum.IntFlag)\n",
      "     |  RegexFlag(value, names=None, *, module=None, qualname=None, type=None, start=1, boundary=None)\n",
      "     |  \n",
      "     |  An enumeration.\n",
      "     |  \n",
      "     |  Method resolution order:\n",
      "     |      RegexFlag\n",
      "     |      enum.IntFlag\n",
      "     |      builtins.int\n",
      "     |      enum.ReprEnum\n",
      "     |      enum.Flag\n",
      "     |      enum.Enum\n",
      "     |      builtins.object\n",
      "     |  \n",
      "     |  Methods defined here:\n",
      "     |  \n",
      "     |  __and__(self, other)\n",
      "     |  \n",
      "     |  __format__(self, format_spec, /)\n",
      "     |      Default object formatter.\n",
      "     |  \n",
      "     |  __invert__(self)\n",
      "     |  \n",
      "     |  __new__(cls, value)\n",
      "     |      Create and return a new object.  See help(type) for accurate signature.\n",
      "     |  \n",
      "     |  __or__(self, other)\n",
      "     |      Return self|value.\n",
      "     |  \n",
      "     |  __rand__ = __and__(self, other)\n",
      "     |  \n",
      "     |  __repr__ = global_flag_repr(self)\n",
      "     |      use module.flag_name instead of class.flag_name\n",
      "     |      \n",
      "     |      the module is the last module in case of a multi-module name\n",
      "     |  \n",
      "     |  __ror__ = __or__(self, other)\n",
      "     |  \n",
      "     |  __rxor__ = __xor__(self, other)\n",
      "     |  \n",
      "     |  __str__(self, /)\n",
      "     |      Return str(self).\n",
      "     |  \n",
      "     |  __xor__(self, other)\n",
      "     |  \n",
      "     |  ----------------------------------------------------------------------\n",
      "     |  Data and other attributes defined here:\n",
      "     |  \n",
      "     |  ASCII = re.ASCII\n",
      "     |  \n",
      "     |  DEBUG = re.DEBUG\n",
      "     |  \n",
      "     |  DOTALL = re.DOTALL\n",
      "     |  \n",
      "     |  IGNORECASE = re.IGNORECASE\n",
      "     |  \n",
      "     |  LOCALE = re.LOCALE\n",
      "     |  \n",
      "     |  MULTILINE = re.MULTILINE\n",
      "     |  \n",
      "     |  TEMPLATE = re.TEMPLATE\n",
      "     |  \n",
      "     |  UNICODE = re.UNICODE\n",
      "     |  \n",
      "     |  VERBOSE = re.VERBOSE\n",
      "     |  \n",
      "     |  ----------------------------------------------------------------------\n",
      "     |  Methods inherited from builtins.int:\n",
      "     |  \n",
      "     |  __abs__(self, /)\n",
      "     |      abs(self)\n",
      "     |  \n",
      "     |  __add__(self, value, /)\n",
      "     |      Return self+value.\n",
      "     |  \n",
      "     |  __bool__(self, /)\n",
      "     |      True if self else False\n",
      "     |  \n",
      "     |  __ceil__(...)\n",
      "     |      Ceiling of an Integral returns itself.\n",
      "     |  \n",
      "     |  __divmod__(self, value, /)\n",
      "     |      Return divmod(self, value).\n",
      "     |  \n",
      "     |  __eq__(self, value, /)\n",
      "     |      Return self==value.\n",
      "     |  \n",
      "     |  __float__(self, /)\n",
      "     |      float(self)\n",
      "     |  \n",
      "     |  __floor__(...)\n",
      "     |      Flooring an Integral returns itself.\n",
      "     |  \n",
      "     |  __floordiv__(self, value, /)\n",
      "     |      Return self//value.\n",
      "     |  \n",
      "     |  __ge__(self, value, /)\n",
      "     |      Return self>=value.\n",
      "     |  \n",
      "     |  __getattribute__(self, name, /)\n",
      "     |      Return getattr(self, name).\n",
      "     |  \n",
      "     |  __getnewargs__(self, /)\n",
      "     |  \n",
      "     |  __gt__(self, value, /)\n",
      "     |      Return self>value.\n",
      "     |  \n",
      "     |  __hash__(self, /)\n",
      "     |      Return hash(self).\n",
      "     |  \n",
      "     |  __index__(self, /)\n",
      "     |      Return self converted to an integer, if self is suitable for use as an index into a list.\n",
      "     |  \n",
      "     |  __int__(self, /)\n",
      "     |      int(self)\n",
      "     |  \n",
      "     |  __le__(self, value, /)\n",
      "     |      Return self<=value.\n",
      "     |  \n",
      "     |  __lshift__(self, value, /)\n",
      "     |      Return self<<value.\n",
      "     |  \n",
      "     |  __lt__(self, value, /)\n",
      "     |      Return self<value.\n",
      "     |  \n",
      "     |  __mod__(self, value, /)\n",
      "     |      Return self%value.\n",
      "     |  \n",
      "     |  __mul__(self, value, /)\n",
      "     |      Return self*value.\n",
      "     |  \n",
      "     |  __ne__(self, value, /)\n",
      "     |      Return self!=value.\n",
      "     |  \n",
      "     |  __neg__(self, /)\n",
      "     |      -self\n",
      "     |  \n",
      "     |  __pos__(self, /)\n",
      "     |      +self\n",
      "     |  \n",
      "     |  __pow__(self, value, mod=None, /)\n",
      "     |      Return pow(self, value, mod).\n",
      "     |  \n",
      "     |  __radd__(self, value, /)\n",
      "     |      Return value+self.\n",
      "     |  \n",
      "     |  __rdivmod__(self, value, /)\n",
      "     |      Return divmod(value, self).\n",
      "     |  \n",
      "     |  __rfloordiv__(self, value, /)\n",
      "     |      Return value//self.\n",
      "     |  \n",
      "     |  __rlshift__(self, value, /)\n",
      "     |      Return value<<self.\n",
      "     |  \n",
      "     |  __rmod__(self, value, /)\n",
      "     |      Return value%self.\n",
      "     |  \n",
      "     |  __rmul__(self, value, /)\n",
      "     |      Return value*self.\n",
      "     |  \n",
      "     |  __round__(...)\n",
      "     |      Rounding an Integral returns itself.\n",
      "     |      \n",
      "     |      Rounding with an ndigits argument also returns an integer.\n",
      "     |  \n",
      "     |  __rpow__(self, value, mod=None, /)\n",
      "     |      Return pow(value, self, mod).\n",
      "     |  \n",
      "     |  __rrshift__(self, value, /)\n",
      "     |      Return value>>self.\n",
      "     |  \n",
      "     |  __rshift__(self, value, /)\n",
      "     |      Return self>>value.\n",
      "     |  \n",
      "     |  __rsub__(self, value, /)\n",
      "     |      Return value-self.\n",
      "     |  \n",
      "     |  __rtruediv__(self, value, /)\n",
      "     |      Return value/self.\n",
      "     |  \n",
      "     |  __sizeof__(self, /)\n",
      "     |      Returns size in memory, in bytes.\n",
      "     |  \n",
      "     |  __sub__(self, value, /)\n",
      "     |      Return self-value.\n",
      "     |  \n",
      "     |  __truediv__(self, value, /)\n",
      "     |      Return self/value.\n",
      "     |  \n",
      "     |  __trunc__(...)\n",
      "     |      Truncating an Integral returns itself.\n",
      "     |  \n",
      "     |  as_integer_ratio(self, /)\n",
      "     |      Return integer ratio.\n",
      "     |      \n",
      "     |      Return a pair of integers, whose ratio is exactly equal to the original int\n",
      "     |      and with a positive denominator.\n",
      "     |      \n",
      "     |      >>> (10).as_integer_ratio()\n",
      "     |      (10, 1)\n",
      "     |      >>> (-10).as_integer_ratio()\n",
      "     |      (-10, 1)\n",
      "     |      >>> (0).as_integer_ratio()\n",
      "     |      (0, 1)\n",
      "     |  \n",
      "     |  bit_count(self, /)\n",
      "     |      Number of ones in the binary representation of the absolute value of self.\n",
      "     |      \n",
      "     |      Also known as the population count.\n",
      "     |      \n",
      "     |      >>> bin(13)\n",
      "     |      '0b1101'\n",
      "     |      >>> (13).bit_count()\n",
      "     |      3\n",
      "     |  \n",
      "     |  bit_length(self, /)\n",
      "     |      Number of bits necessary to represent self in binary.\n",
      "     |      \n",
      "     |      >>> bin(37)\n",
      "     |      '0b100101'\n",
      "     |      >>> (37).bit_length()\n",
      "     |      6\n",
      "     |  \n",
      "     |  conjugate(...)\n",
      "     |      Returns self, the complex conjugate of any int.\n",
      "     |  \n",
      "     |  to_bytes(self, /, length=1, byteorder='big', *, signed=False)\n",
      "     |      Return an array of bytes representing an integer.\n",
      "     |      \n",
      "     |      length\n",
      "     |        Length of bytes object to use.  An OverflowError is raised if the\n",
      "     |        integer is not representable with the given number of bytes.  Default\n",
      "     |        is length 1.\n",
      "     |      byteorder\n",
      "     |        The byte order used to represent the integer.  If byteorder is 'big',\n",
      "     |        the most significant byte is at the beginning of the byte array.  If\n",
      "     |        byteorder is 'little', the most significant byte is at the end of the\n",
      "     |        byte array.  To request the native byte order of the host system, use\n",
      "     |        `sys.byteorder' as the byte order value.  Default is to use 'big'.\n",
      "     |      signed\n",
      "     |        Determines whether two's complement is used to represent the integer.\n",
      "     |        If signed is False and a negative integer is given, an OverflowError\n",
      "     |        is raised.\n",
      "     |  \n",
      "     |  ----------------------------------------------------------------------\n",
      "     |  Class methods inherited from builtins.int:\n",
      "     |  \n",
      "     |  from_bytes(bytes, byteorder='big', *, signed=False) from enum.EnumType\n",
      "     |      Return the integer represented by the given array of bytes.\n",
      "     |      \n",
      "     |      bytes\n",
      "     |        Holds the array of bytes to convert.  The argument must either\n",
      "     |        support the buffer protocol or be an iterable object producing bytes.\n",
      "     |        Bytes and bytearray are examples of built-in objects that support the\n",
      "     |        buffer protocol.\n",
      "     |      byteorder\n",
      "     |        The byte order used to represent the integer.  If byteorder is 'big',\n",
      "     |        the most significant byte is at the beginning of the byte array.  If\n",
      "     |        byteorder is 'little', the most significant byte is at the end of the\n",
      "     |        byte array.  To request the native byte order of the host system, use\n",
      "     |        `sys.byteorder' as the byte order value.  Default is to use 'big'.\n",
      "     |      signed\n",
      "     |        Indicates whether two's complement is used to represent the integer.\n",
      "     |  \n",
      "     |  ----------------------------------------------------------------------\n",
      "     |  Data descriptors inherited from builtins.int:\n",
      "     |  \n",
      "     |  denominator\n",
      "     |      the denominator of a rational number in lowest terms\n",
      "     |  \n",
      "     |  imag\n",
      "     |      the imaginary part of a complex number\n",
      "     |  \n",
      "     |  numerator\n",
      "     |      the numerator of a rational number in lowest terms\n",
      "     |  \n",
      "     |  real\n",
      "     |      the real part of a complex number\n",
      "     |  \n",
      "     |  ----------------------------------------------------------------------\n",
      "     |  Methods inherited from enum.Flag:\n",
      "     |  \n",
      "     |  __contains__(self, other)\n",
      "     |      Returns True if self has at least the same flags set as other.\n",
      "     |  \n",
      "     |  __iter__(self)\n",
      "     |      Returns flags in definition order.\n",
      "     |  \n",
      "     |  __len__(self)\n",
      "     |      Return the number of members (no aliases)\n",
      "     |  \n",
      "     |  ----------------------------------------------------------------------\n",
      "     |  Methods inherited from enum.Enum:\n",
      "     |  \n",
      "     |  __dir__(self)\n",
      "     |      Returns all members and all public methods\n",
      "     |  \n",
      "     |  __init__(self, *args, **kwds)\n",
      "     |      Initialize self.  See help(type(self)) for accurate signature.\n",
      "     |  \n",
      "     |  __reduce_ex__(self, proto)\n",
      "     |      Helper for pickle.\n",
      "     |  \n",
      "     |  ----------------------------------------------------------------------\n",
      "     |  Data descriptors inherited from enum.Enum:\n",
      "     |  \n",
      "     |  name\n",
      "     |      The name of the Enum member.\n",
      "     |  \n",
      "     |  value\n",
      "     |      The value of the Enum member.\n",
      "     |  \n",
      "     |  ----------------------------------------------------------------------\n",
      "     |  Methods inherited from enum.EnumType:\n",
      "     |  \n",
      "     |  __getitem__(name) from enum.EnumType\n",
      "     |      Return the member matching `name`.\n",
      "     |  \n",
      "     |  ----------------------------------------------------------------------\n",
      "     |  Readonly properties inherited from enum.EnumType:\n",
      "     |  \n",
      "     |  __members__\n",
      "     |      Returns a mapping of member name->value.\n",
      "     |      \n",
      "     |      This mapping lists all enum members, including aliases. Note that this\n",
      "     |      is a read-only view of the internal mapping.\n",
      "    \n",
      "    class error(builtins.Exception)\n",
      "     |  error(msg, pattern=None, pos=None)\n",
      "     |  \n",
      "     |  Exception raised for invalid regular expressions.\n",
      "     |  \n",
      "     |  Attributes:\n",
      "     |  \n",
      "     |      msg: The unformatted error message\n",
      "     |      pattern: The regular expression pattern\n",
      "     |      pos: The index in the pattern where compilation failed (may be None)\n",
      "     |      lineno: The line corresponding to pos (may be None)\n",
      "     |      colno: The column corresponding to pos (may be None)\n",
      "     |  \n",
      "     |  Method resolution order:\n",
      "     |      error\n",
      "     |      builtins.Exception\n",
      "     |      builtins.BaseException\n",
      "     |      builtins.object\n",
      "     |  \n",
      "     |  Methods defined here:\n",
      "     |  \n",
      "     |  __init__(self, msg, pattern=None, pos=None)\n",
      "     |      Initialize self.  See help(type(self)) for accurate signature.\n",
      "     |  \n",
      "     |  ----------------------------------------------------------------------\n",
      "     |  Data descriptors defined here:\n",
      "     |  \n",
      "     |  __weakref__\n",
      "     |      list of weak references to the object (if defined)\n",
      "     |  \n",
      "     |  ----------------------------------------------------------------------\n",
      "     |  Static methods inherited from builtins.Exception:\n",
      "     |  \n",
      "     |  __new__(*args, **kwargs) from builtins.type\n",
      "     |      Create and return a new object.  See help(type) for accurate signature.\n",
      "     |  \n",
      "     |  ----------------------------------------------------------------------\n",
      "     |  Methods inherited from builtins.BaseException:\n",
      "     |  \n",
      "     |  __delattr__(self, name, /)\n",
      "     |      Implement delattr(self, name).\n",
      "     |  \n",
      "     |  __getattribute__(self, name, /)\n",
      "     |      Return getattr(self, name).\n",
      "     |  \n",
      "     |  __reduce__(...)\n",
      "     |      Helper for pickle.\n",
      "     |  \n",
      "     |  __repr__(self, /)\n",
      "     |      Return repr(self).\n",
      "     |  \n",
      "     |  __setattr__(self, name, value, /)\n",
      "     |      Implement setattr(self, name, value).\n",
      "     |  \n",
      "     |  __setstate__(...)\n",
      "     |  \n",
      "     |  __str__(self, /)\n",
      "     |      Return str(self).\n",
      "     |  \n",
      "     |  add_note(...)\n",
      "     |      Exception.add_note(note) --\n",
      "     |      add a note to the exception\n",
      "     |  \n",
      "     |  with_traceback(...)\n",
      "     |      Exception.with_traceback(tb) --\n",
      "     |      set self.__traceback__ to tb and return self.\n",
      "     |  \n",
      "     |  ----------------------------------------------------------------------\n",
      "     |  Data descriptors inherited from builtins.BaseException:\n",
      "     |  \n",
      "     |  __cause__\n",
      "     |      exception cause\n",
      "     |  \n",
      "     |  __context__\n",
      "     |      exception context\n",
      "     |  \n",
      "     |  __dict__\n",
      "     |  \n",
      "     |  __suppress_context__\n",
      "     |  \n",
      "     |  __traceback__\n",
      "     |  \n",
      "     |  args\n",
      "\n",
      "FUNCTIONS\n",
      "    compile(pattern, flags=0)\n",
      "        Compile a regular expression pattern, returning a Pattern object.\n",
      "    \n",
      "    escape(pattern)\n",
      "        Escape special characters in a string.\n",
      "    \n",
      "    findall(pattern, string, flags=0)\n",
      "        Return a list of all non-overlapping matches in the string.\n",
      "        \n",
      "        If one or more capturing groups are present in the pattern, return\n",
      "        a list of groups; this will be a list of tuples if the pattern\n",
      "        has more than one group.\n",
      "        \n",
      "        Empty matches are included in the result.\n",
      "    \n",
      "    finditer(pattern, string, flags=0)\n",
      "        Return an iterator over all non-overlapping matches in the\n",
      "        string.  For each match, the iterator returns a Match object.\n",
      "        \n",
      "        Empty matches are included in the result.\n",
      "    \n",
      "    fullmatch(pattern, string, flags=0)\n",
      "        Try to apply the pattern to all of the string, returning\n",
      "        a Match object, or None if no match was found.\n",
      "    \n",
      "    match(pattern, string, flags=0)\n",
      "        Try to apply the pattern at the start of the string, returning\n",
      "        a Match object, or None if no match was found.\n",
      "    \n",
      "    purge()\n",
      "        Clear the regular expression caches\n",
      "    \n",
      "    search(pattern, string, flags=0)\n",
      "        Scan through string looking for a match to the pattern, returning\n",
      "        a Match object, or None if no match was found.\n",
      "    \n",
      "    split(pattern, string, maxsplit=0, flags=0)\n",
      "        Split the source string by the occurrences of the pattern,\n",
      "        returning a list containing the resulting substrings.  If\n",
      "        capturing parentheses are used in pattern, then the text of all\n",
      "        groups in the pattern are also returned as part of the resulting\n",
      "        list.  If maxsplit is nonzero, at most maxsplit splits occur,\n",
      "        and the remainder of the string is returned as the final element\n",
      "        of the list.\n",
      "    \n",
      "    sub(pattern, repl, string, count=0, flags=0)\n",
      "        Return the string obtained by replacing the leftmost\n",
      "        non-overlapping occurrences of the pattern in string by the\n",
      "        replacement repl.  repl can be either a string or a callable;\n",
      "        if a string, backslash escapes in it are processed.  If it is\n",
      "        a callable, it's passed the Match object and must return\n",
      "        a replacement string to be used.\n",
      "    \n",
      "    subn(pattern, repl, string, count=0, flags=0)\n",
      "        Return a 2-tuple containing (new_string, number).\n",
      "        new_string is the string obtained by replacing the leftmost\n",
      "        non-overlapping occurrences of the pattern in the source\n",
      "        string by the replacement repl.  number is the number of\n",
      "        substitutions that were made. repl can be either a string or a\n",
      "        callable; if a string, backslash escapes in it are processed.\n",
      "        If it is a callable, it's passed the Match object and must\n",
      "        return a replacement string to be used.\n",
      "    \n",
      "    template(pattern, flags=0)\n",
      "        Compile a template pattern, returning a Pattern object, deprecated\n",
      "\n",
      "DATA\n",
      "    A = re.ASCII\n",
      "    ASCII = re.ASCII\n",
      "    DOTALL = re.DOTALL\n",
      "    I = re.IGNORECASE\n",
      "    IGNORECASE = re.IGNORECASE\n",
      "    L = re.LOCALE\n",
      "    LOCALE = re.LOCALE\n",
      "    M = re.MULTILINE\n",
      "    MULTILINE = re.MULTILINE\n",
      "    NOFLAG = re.NOFLAG\n",
      "    S = re.DOTALL\n",
      "    U = re.UNICODE\n",
      "    UNICODE = re.UNICODE\n",
      "    VERBOSE = re.VERBOSE\n",
      "    X = re.VERBOSE\n",
      "    __all__ = ['match', 'fullmatch', 'search', 'sub', 'subn', 'split', 'fi...\n",
      "\n",
      "VERSION\n",
      "    2.2.1\n",
      "\n",
      "FILE\n",
      "    c:\\users\\robin\\anaconda3\\lib\\re\\__init__.py\n",
      "\n",
      "\n"
     ]
    }
   ],
   "source": [
    "import re\n",
    "help(re)"
   ]
  },
  {
   "cell_type": "code",
   "execution_count": 5,
   "id": "14cbbb91-bd9c-45dc-b514-11b92366e3a3",
   "metadata": {},
   "outputs": [],
   "source": [
    "import regex as re"
   ]
  },
  {
   "cell_type": "code",
   "execution_count": 42,
   "id": "5c7ff348-3391-4eee-92b2-af55ec56141f",
   "metadata": {},
   "outputs": [
    {
     "ename": "TypeError",
     "evalue": "'list' object is not callable",
     "output_type": "error",
     "traceback": [
      "\u001b[1;31m---------------------------------------------------------------------------\u001b[0m",
      "\u001b[1;31mTypeError\u001b[0m                                 Traceback (most recent call last)",
      "Cell \u001b[1;32mIn[42], line 4\u001b[0m\n\u001b[0;32m      2\u001b[0m text\u001b[38;5;241m=\u001b[39m\u001b[38;5;124m\"\u001b[39m\u001b[38;5;124mi bought 450 mahgoes and 345 apples\u001b[39m\u001b[38;5;124m\"\u001b[39m\n\u001b[0;32m      3\u001b[0m matches\u001b[38;5;241m=\u001b[39mre\u001b[38;5;241m.\u001b[39mfindall(pattern,text)\n\u001b[1;32m----> 4\u001b[0m \u001b[38;5;28mprint\u001b[39m(matches)\n",
      "\u001b[1;31mTypeError\u001b[0m: 'list' object is not callable"
     ]
    }
   ],
   "source": [
    "pattern='\\d+' #d+ contains the values tahat are together\n",
    "text=\"i bought 450 mahgoes and 345 apples\"\n",
    "matches=re.findall(pattern,text)\n",
    "print(matches)"
   ]
  },
  {
   "cell_type": "code",
   "execution_count": 46,
   "id": "18f07ff4-0a41-41e7-bb76-b556ae738d98",
   "metadata": {},
   "outputs": [
    {
     "ename": "TypeError",
     "evalue": "'list' object is not callable",
     "output_type": "error",
     "traceback": [
      "\u001b[1;31m---------------------------------------------------------------------------\u001b[0m",
      "\u001b[1;31mTypeError\u001b[0m                                 Traceback (most recent call last)",
      "Cell \u001b[1;32mIn[46], line 3\u001b[0m\n\u001b[0;32m      1\u001b[0m pattern\u001b[38;5;241m=\u001b[39m\u001b[38;5;124m\"\u001b[39m\u001b[38;5;124mrobin\u001b[39m\u001b[38;5;124m\"\u001b[39m\n\u001b[0;32m      2\u001b[0m robin\u001b[38;5;241m=\u001b[39mre\u001b[38;5;241m.\u001b[39mfindall(pattern,\u001b[38;5;124m\"\u001b[39m\u001b[38;5;124mrobin is a good boy\u001b[39m\u001b[38;5;124m\"\u001b[39m) \u001b[38;5;66;03m#we can directly give the text value in the rule\u001b[39;00m\n\u001b[1;32m----> 3\u001b[0m \u001b[38;5;28mprint\u001b[39m(robin)\n",
      "\u001b[1;31mTypeError\u001b[0m: 'list' object is not callable"
     ]
    }
   ],
   "source": [
    "pattern=\"robin\"\n",
    "robin=re.findall(pattern,\"robin is a good boy\") #we can directly give the text value in the rule\n",
    "print(robin)"
   ]
  },
  {
   "cell_type": "code",
   "execution_count": 48,
   "id": "05d8d052-fe45-4069-b6aa-94d5b76ca891",
   "metadata": {},
   "outputs": [],
   "source": [
    "import re as regex"
   ]
  },
  {
   "cell_type": "code",
   "execution_count": 50,
   "id": "29d5ae2f-fcce-48e1-9526-8786419cb16b",
   "metadata": {},
   "outputs": [
    {
     "ename": "TypeError",
     "evalue": "'list' object is not callable",
     "output_type": "error",
     "traceback": [
      "\u001b[1;31m---------------------------------------------------------------------------\u001b[0m",
      "\u001b[1;31mTypeError\u001b[0m                                 Traceback (most recent call last)",
      "Cell \u001b[1;32mIn[50], line 4\u001b[0m\n\u001b[0;32m      2\u001b[0m text\u001b[38;5;241m=\u001b[39m\u001b[38;5;124m\"\u001b[39m\u001b[38;5;124mi bought 450 mahgoes and 345 apples\u001b[39m\u001b[38;5;124m\"\u001b[39m\n\u001b[0;32m      3\u001b[0m num\u001b[38;5;241m=\u001b[39mre\u001b[38;5;241m.\u001b[39mfindall(pattern,text)\n\u001b[1;32m----> 4\u001b[0m \u001b[38;5;28mprint\u001b[39m(num)\n",
      "\u001b[1;31mTypeError\u001b[0m: 'list' object is not callable"
     ]
    }
   ],
   "source": [
    "pattern=\"\\d?\"\n",
    "text=\"i bought 450 mahgoes and 345 apples\"\n",
    "num=re.findall(pattern,text)\n",
    "print(num)"
   ]
  },
  {
   "cell_type": "code",
   "execution_count": 1,
   "id": "188b54cd-b2c5-4296-900b-f16b8bbbcbac",
   "metadata": {},
   "outputs": [
    {
     "ename": "NameError",
     "evalue": "name 're' is not defined",
     "output_type": "error",
     "traceback": [
      "\u001b[1;31m---------------------------------------------------------------------------\u001b[0m",
      "\u001b[1;31mNameError\u001b[0m                                 Traceback (most recent call last)",
      "Cell \u001b[1;32mIn[1], line 4\u001b[0m\n\u001b[0;32m      1\u001b[0m string \u001b[38;5;241m=\u001b[39m \u001b[38;5;124m'\u001b[39m\u001b[38;5;124mTwelve:12 Eighty nine:89.\u001b[39m\u001b[38;5;124m'\u001b[39m\n\u001b[0;32m      2\u001b[0m pattern \u001b[38;5;241m=\u001b[39m\u001b[38;5;124m'\u001b[39m\u001b[38;5;124m\\\u001b[39m\u001b[38;5;124md+\u001b[39m\u001b[38;5;124m'\u001b[39m\n\u001b[1;32m----> 4\u001b[0m result \u001b[38;5;241m=\u001b[39mre\u001b[38;5;241m.\u001b[39msplit(pattern,string)\n\u001b[0;32m      5\u001b[0m \u001b[38;5;28mprint\u001b[39m(result)\n",
      "\u001b[1;31mNameError\u001b[0m: name 're' is not defined"
     ]
    }
   ],
   "source": [
    "string = 'Twelve:12 Eighty nine:89.'\n",
    "pattern ='\\d+'\n",
    "\n",
    "result =re.split(pattern,string)\n",
    "print(result)"
   ]
  },
  {
   "cell_type": "code",
   "execution_count": 3,
   "id": "96862520-50cd-4105-9941-f712be59167a",
   "metadata": {},
   "outputs": [],
   "source": [
    "import regex as re"
   ]
  },
  {
   "cell_type": "code",
   "execution_count": 10,
   "id": "684c0e08-0688-43eb-9622-d998f638efbe",
   "metadata": {},
   "outputs": [
    {
     "name": "stdout",
     "output_type": "stream",
     "text": [
      "['', 'T', 'w', 'e', 'l', 'v', 'e', ':', '', '', ' ', 'E', 'i', 'g', 'h', 't', 'y', ' ', 'n', 'i', 'n', 'e', ':', '', '', '.', '']\n"
     ]
    }
   ],
   "source": [
    "string = 'Twelve:12 Eighty nine:89.'\n",
    "pattern ='\\d?'\n",
    "\n",
    "result =re.split(pattern,string)\n",
    "print(result)\n"
   ]
  },
  {
   "cell_type": "code",
   "execution_count": 22,
   "id": "c89470d1-93f0-405e-b8b1-f384f592eb64",
   "metadata": {},
   "outputs": [
    {
     "name": "stdout",
     "output_type": "stream",
     "text": [
      "['ninty', 'nine:99', 'eighty', 'eight:88']\n"
     ]
    }
   ],
   "source": [
    "string=\"ninty nine:99 eighty eight:88\"\n",
    "pattern='\\s+'\n",
    "result=re.split(pattern,string)\n",
    "print(result)"
   ]
  },
  {
   "cell_type": "code",
   "execution_count": 22,
   "id": "9df21980-d957-4e17-8532-e184cde03272",
   "metadata": {},
   "outputs": [
    {
     "ename": "SyntaxError",
     "evalue": "unexpected character after line continuation character (130115866.py, line 1)",
     "output_type": "error",
     "traceback": [
      "\u001b[1;36m  Cell \u001b[1;32mIn[22], line 1\u001b[1;36m\u001b[0m\n\u001b[1;33m    x=(2,3\\n)\u001b[0m\n\u001b[1;37m           ^\u001b[0m\n\u001b[1;31mSyntaxError\u001b[0m\u001b[1;31m:\u001b[0m unexpected character after line continuation character\n"
     ]
    }
   ],
   "source": [
    "x=[2 3"
   ]
  },
  {
   "cell_type": "code",
   "execution_count": 3,
   "id": "7bd55f10-b20b-4a64-891e-59ddc03d78b8",
   "metadata": {},
   "outputs": [],
   "source": [
    "import re "
   ]
  },
  {
   "cell_type": "code",
   "execution_count": 11,
   "id": "9a0f94db-2adc-4587-a160-46d3214d07eb",
   "metadata": {},
   "outputs": [
    {
     "name": "stdout",
     "output_type": "stream",
     "text": [
      "['h', 'e', 'l', 'l', 'o', 't', 'h', 'i', 's', 'i', 's', 'm', 'y', 'n', 'e', 'w', 'i', 'd', 'r', 'o', 'B', '1', '2', '3']\n"
     ]
    }
   ],
   "source": [
    "pattern='[a-z-A-Z-0-9]'\n",
    "txt=\"hello this is my new id  roB123\"\n",
    "x=re.findall(pattern,txt)\n",
    "print(x)"
   ]
  },
  {
   "cell_type": "code",
   "execution_count": 13,
   "id": "45c0fd3d-e4d9-449b-90bd-f4f57df8f304",
   "metadata": {},
   "outputs": [
    {
     "name": "stdout",
     "output_type": "stream",
     "text": [
      "['hello', 'this', 'is', 'my', 'new', 'id', 'roB123']\n"
     ]
    }
   ],
   "source": [
    "pattern='[a-z-A-Z-0-9]'\n",
    "txt=\"hello this is my new id  roB123\"\n",
    "x=re.findall(pattern,txt)\n",
    "print(x)"
   ]
  },
  {
   "cell_type": "code",
   "execution_count": 37,
   "id": "ae4b9fca-7486-430d-a00b-e6b20c15aee2",
   "metadata": {},
   "outputs": [
    {
     "name": "stdout",
     "output_type": "stream",
     "text": [
      "['1870', '1000']\n"
     ]
    }
   ],
   "source": [
    "import re\n",
    "target_string=\"virat kolhi scored total of 1870 runs in ODI and 10000 runs in IPL\"\n",
    "target=re.findall(\"\\d{4}\",target_string)\n",
    "print(target)"
   ]
  },
  {
   "cell_type": "code",
   "execution_count": 71,
   "id": "3f1937fa-281f-457a-aac7-536c22aee40a",
   "metadata": {},
   "outputs": [
    {
     "ename": "AttributeError",
     "evalue": "'list' object has no attribute 'findall'",
     "output_type": "error",
     "traceback": [
      "\u001b[1;31m---------------------------------------------------------------------------\u001b[0m",
      "\u001b[1;31mAttributeError\u001b[0m                            Traceback (most recent call last)",
      "Cell \u001b[1;32mIn[71], line 3\u001b[0m\n\u001b[0;32m      1\u001b[0m pattern\u001b[38;5;241m=\u001b[39m\u001b[38;5;124m\"\u001b[39m\u001b[38;5;124m\\\u001b[39m\u001b[38;5;124mw+\u001b[39m\u001b[38;5;124m\"\u001b[39m\n\u001b[0;32m      2\u001b[0m target_string\u001b[38;5;241m=\u001b[39m\u001b[38;5;124m\"\u001b[39m\u001b[38;5;124mrobin is an good boy\u001b[39m\u001b[38;5;124m\"\u001b[39m\n\u001b[1;32m----> 3\u001b[0m re\u001b[38;5;241m=\u001b[39mre\u001b[38;5;241m.\u001b[39mfindall(pattern,target_string)\n\u001b[0;32m      4\u001b[0m \u001b[38;5;28mprint\u001b[39m(re)\n",
      "\u001b[1;31mAttributeError\u001b[0m: 'list' object has no attribute 'findall'"
     ]
    }
   ],
   "source": [
    "pattern=\"\\w+\"\n",
    "target_string=\"robin is an good boy\"\n",
    "re=re.findall(pattern,target_string)\n",
    "print(re)"
   ]
  },
  {
   "cell_type": "code",
   "execution_count": 77,
   "id": "df900e7a-006a-4e59-ac57-41ea3939aeb6",
   "metadata": {},
   "outputs": [
    {
     "name": "stdout",
     "output_type": "stream",
     "text": [
      "[]\n"
     ]
    }
   ],
   "source": [
    "import re\n",
    "txt=\"the most special word in the world is abs and abbu\"\n",
    "my_var=re.findall(r\"^ab*$\",txt)\n",
    "print(my_var)"
   ]
  },
  {
   "cell_type": "code",
   "execution_count": 1,
   "id": "0905a3b3-cb4f-4d0d-8049-491ede92145b",
   "metadata": {},
   "outputs": [
    {
     "ename": "NameError",
     "evalue": "name 're' is not defined",
     "output_type": "error",
     "traceback": [
      "\u001b[1;31m---------------------------------------------------------------------------\u001b[0m",
      "\u001b[1;31mNameError\u001b[0m                                 Traceback (most recent call last)",
      "Cell \u001b[1;32mIn[1], line 2\u001b[0m\n\u001b[0;32m      1\u001b[0m txt\u001b[38;5;241m=\u001b[39m\u001b[38;5;124m\"\u001b[39m\u001b[38;5;124mthe most special word in the world is abs and abbu\u001b[39m\u001b[38;5;124m\"\u001b[39m\n\u001b[1;32m----> 2\u001b[0m my_var\u001b[38;5;241m=\u001b[39mre\u001b[38;5;241m.\u001b[39mfindall(\u001b[38;5;124mr\u001b[39m\u001b[38;5;124m\"\u001b[39m\u001b[38;5;124m^a*b\u001b[39m\u001b[38;5;124m\"\u001b[39m,txt)\n\u001b[0;32m      3\u001b[0m \u001b[38;5;28mprint\u001b[39m(my_var)\n",
      "\u001b[1;31mNameError\u001b[0m: name 're' is not defined"
     ]
    }
   ],
   "source": [
    "txt=\"the most special word in the world is abs and abbu\"\n",
    "my_var=re.findall(r\"^a*b\",txt)\n",
    "print(my_var)"
   ]
  },
  {
   "cell_type": "code",
   "execution_count": 114,
   "id": "002b0a67-b0a9-4bfd-b780-1ba825532b24",
   "metadata": {},
   "outputs": [
    {
     "name": "stdin",
     "output_type": "stream",
     "text": [
      "enter the marks 100\n"
     ]
    },
    {
     "name": "stdout",
     "output_type": "stream",
     "text": [
      "100 distinction\n"
     ]
    }
   ],
   "source": [
    "x=int(input(\"enter the marks\"))\n",
    "if x<=50:\n",
    "    if x<=55:\n",
    "        print(x,\"fail\")\n",
    "    else:\n",
    "        print(x,\"pass\")\n",
    "elif x>=75 and x<75:\n",
    "    print(x,\"first cls pass\")\n",
    "else:\n",
    "    print(x,\"distinction\")\n",
    "       "
   ]
  },
  {
   "cell_type": "code",
   "execution_count": 1,
   "id": "00afe714-8177-459c-858e-21c4cd96a04b",
   "metadata": {},
   "outputs": [
    {
     "name": "stdin",
     "output_type": "stream",
     "text": [
      "enter your marks: 33\n"
     ]
    },
    {
     "name": "stdout",
     "output_type": "stream",
     "text": [
      "need improvement\n",
      "average\n"
     ]
    }
   ],
   "source": [
    "y=int(input(\"enter your marks:\"))\n",
    "if y>=90:\n",
    "    if y>=100:\n",
    "        print(\"distinction\")\n",
    "else:\n",
    "    print(\"need improvement\")\n",
    "if y<=50 and y<=40:\n",
    "    print(\"average\")\n",
    "else:\n",
    "    print(\"fail\")"
   ]
  },
  {
   "cell_type": "code",
   "execution_count": 22,
   "id": "1f482db0-5593-4cc5-8300-df54b901ad64",
   "metadata": {},
   "outputs": [
    {
     "name": "stdout",
     "output_type": "stream",
     "text": [
      "10 fail\n",
      "20 fail\n",
      "30 pass\n",
      "40 just pass\n",
      "50 goood\n",
      "60 goood\n",
      "70 average \n",
      "80 just pass\n",
      "90 distinction\n",
      "100 distinction\n"
     ]
    }
   ],
   "source": [
    "students_marks=[10,20,30,40,50,60,70,80,90,100]\n",
    "for rob in students_marks:\n",
    "    if rob>=90:\n",
    "        if rob>=80:\n",
    "            print(rob,\"distinction\")\n",
    "        else:\n",
    "            print(rob,\"excellent\")\n",
    "    elif rob>=70 and rob<80:\n",
    "        print(rob,\"average \")\n",
    "    elif rob>=50 and rob<70:\n",
    "        print(rob,\"goood\")\n",
    "    elif rob>=30 and rob<40:\n",
    "        print (rob,\"pass\")\n",
    "    elif rob>=25:\n",
    "        print(rob,\"just pass\")\n",
    "    else:\n",
    "        print (rob,\"fail\")"
   ]
  },
  {
   "cell_type": "raw",
   "id": "4dc4a8dd-fd20-400d-9282-bc466fe4ca42",
   "metadata": {},
   "source": [
    "\n",
    "import re\n",
    "text=\"Python Exercises, PHP exercises.\"\n",
    "replaced_string=re.sub(r\"\\s,.\",\":\",text)\n",
    "print(replaced_string)"
   ]
  },
  {
   "cell_type": "code",
   "execution_count": 53,
   "id": "4b019db7-c8a5-4d10-9a91-9039aa849abc",
   "metadata": {},
   "outputs": [
    {
     "name": "stdout",
     "output_type": "stream",
     "text": [
      "Pytho:Exercises,PH:exercises.\n"
     ]
    }
   ],
   "source": [
    "import re\n",
    "z=(\"\\s\")\n",
    "x=(\".\")\n",
    "w=('')\n",
    "y=x+z+w\n",
    "text=\"Python Exercises,PHP exercises.\"\n",
    "replaced_string=re.sub(y,\":\",textf)))))\n",
    "print(replaced_string)"
   ]
  },
  {
   "cell_type": "code",
   "execution_count": 97,
   "id": "7678b98b-1faa-4924-8e4a-d05797d05277",
   "metadata": {},
   "outputs": [
    {
     "name": "stdout",
     "output_type": "stream",
     "text": [
      "Python:Exercises::PHP:exercises:\n"
     ]
    }
   ],
   "source": [
    "import re\n",
    "text=\"Python Exercises, PHP exercises.\"\n",
    "y=re.sub(r\"[\\s,.]\",\":\",text)\n",
    "print(y)"
   ]
  },
  {
   "cell_type": "code",
   "execution_count": 91,
   "id": "2ee9975e-164b-48ba-bb93-e42fc797854e",
   "metadata": {},
   "outputs": [
    {
     "ename": "TypeError",
     "evalue": "unhashable type: 'dict'",
     "output_type": "error",
     "traceback": [
      "\u001b[1;31m---------------------------------------------------------------------------\u001b[0m",
      "\u001b[1;31mTypeError\u001b[0m                                 Traceback (most recent call last)",
      "Cell \u001b[1;32mIn[91], line 2\u001b[0m\n\u001b[0;32m      1\u001b[0m \u001b[38;5;28mdict\u001b[39m\u001b[38;5;241m=\u001b[39m{\u001b[38;5;124m'\u001b[39m\u001b[38;5;124mSUMMARY\u001b[39m\u001b[38;5;124m'\u001b[39m : [\u001b[38;5;124m'\u001b[39m\u001b[38;5;124mhello, world!\u001b[39m\u001b[38;5;124m'\u001b[39m, \u001b[38;5;124m'\u001b[39m\u001b[38;5;124mXXXXX test\u001b[39m\u001b[38;5;124m'\u001b[39m, \u001b[38;5;124m'\u001b[39m\u001b[38;5;124m123four, five:; six...\u001b[39m\u001b[38;5;124m'\u001b[39m]}\n\u001b[1;32m----> 2\u001b[0m z\u001b[38;5;241m=\u001b[39mre\u001b[38;5;241m.\u001b[39msplit(\u001b[38;5;28mdict\u001b[39m,\u001b[38;5;124m\"\u001b[39m\u001b[38;5;124m.\u001b[39m\u001b[38;5;124m\"\u001b[39m)\n\u001b[0;32m      3\u001b[0m \u001b[38;5;28mprint\u001b[39m(z)\n",
      "File \u001b[1;32m~\\anaconda3\\Lib\\re\\__init__.py:206\u001b[0m, in \u001b[0;36msplit\u001b[1;34m(pattern, string, maxsplit, flags)\u001b[0m\n\u001b[0;32m    198\u001b[0m \u001b[38;5;28;01mdef\u001b[39;00m \u001b[38;5;21msplit\u001b[39m(pattern, string, maxsplit\u001b[38;5;241m=\u001b[39m\u001b[38;5;241m0\u001b[39m, flags\u001b[38;5;241m=\u001b[39m\u001b[38;5;241m0\u001b[39m):\n\u001b[0;32m    199\u001b[0m \u001b[38;5;250m    \u001b[39m\u001b[38;5;124;03m\"\"\"Split the source string by the occurrences of the pattern,\u001b[39;00m\n\u001b[0;32m    200\u001b[0m \u001b[38;5;124;03m    returning a list containing the resulting substrings.  If\u001b[39;00m\n\u001b[0;32m    201\u001b[0m \u001b[38;5;124;03m    capturing parentheses are used in pattern, then the text of all\u001b[39;00m\n\u001b[1;32m   (...)\u001b[0m\n\u001b[0;32m    204\u001b[0m \u001b[38;5;124;03m    and the remainder of the string is returned as the final element\u001b[39;00m\n\u001b[0;32m    205\u001b[0m \u001b[38;5;124;03m    of the list.\"\"\"\u001b[39;00m\n\u001b[1;32m--> 206\u001b[0m     \u001b[38;5;28;01mreturn\u001b[39;00m _compile(pattern, flags)\u001b[38;5;241m.\u001b[39msplit(string, maxsplit)\n",
      "File \u001b[1;32m~\\anaconda3\\Lib\\re\\__init__.py:277\u001b[0m, in \u001b[0;36m_compile\u001b[1;34m(pattern, flags)\u001b[0m\n\u001b[0;32m    275\u001b[0m     flags \u001b[38;5;241m=\u001b[39m flags\u001b[38;5;241m.\u001b[39mvalue\n\u001b[0;32m    276\u001b[0m \u001b[38;5;28;01mtry\u001b[39;00m:\n\u001b[1;32m--> 277\u001b[0m     \u001b[38;5;28;01mreturn\u001b[39;00m _cache[\u001b[38;5;28mtype\u001b[39m(pattern), pattern, flags]\n\u001b[0;32m    278\u001b[0m \u001b[38;5;28;01mexcept\u001b[39;00m \u001b[38;5;167;01mKeyError\u001b[39;00m:\n\u001b[0;32m    279\u001b[0m     \u001b[38;5;28;01mpass\u001b[39;00m\n",
      "\u001b[1;31mTypeError\u001b[0m: unhashable type: 'dict'"
     ]
    }
   ],
   "source": [
    "dict={'SUMMARY' : ['hello, world!', 'XXXXX test', '123four, five:; six...']}\n",
    "z=(dict,\".\")\n",
    "print(z)"
   ]
  },
  {
   "cell_type": "code",
   "execution_count": 217,
   "id": "785a2777-5a4c-486f-b209-5eeebcb9391c",
   "metadata": {},
   "outputs": [
    {
     "name": "stdout",
     "output_type": "stream",
     "text": [
      "['love', 'most']\n"
     ]
    }
   ],
   "source": [
    "target_string=\"love is the most beautiful thing in the world\"\n",
    "pattern=r\"\\b\\w{4}+\\b\"\n",
    "x=re.compile(pattern)\n",
    "result=re.findall(x,target_string)\n",
    "print(result)"
   ]
  },
  {
   "cell_type": "code",
   "execution_count": 199,
   "id": "7b9be9d6-3062-416e-8ba7-448588f8ba52",
   "metadata": {},
   "outputs": [
    {
     "name": "stdout",
     "output_type": "stream",
     "text": [
      "['3', 'is', 'a', 'on', 'to', '2', 'to', 'end', 'to', 'end', 'in', 'safe', 'and', 'on', 'the', 'lunar', 'It', 'of', 'and', 'Rover', 'It', 'will', 'be', 'by', 'LVM3', 'FROM', 'SDSC', 'SHAR', 'The', 'will', 'carry', 'the', 'and', 'rover', 'till', '1020', 'km', 'lunar', 'orbit', 'The', 'has', 'of', 'Earth', 'SHAPE', 'to', 'study', 'the', 'and', 'polri', 'of', 'earth', 'from', 'the', 'lunar']\n"
     ]
    }
   ],
   "source": [
    "rob= \"\"\" Chandrayaan -3 is a follow-on mission to chandrayan-2 to demonstrate end-to-end capability in safe landing and roving on the lunar surface.\n",
    "It consists of Lander and Rover configuration.It will be launched by LVM3 FROM SDSC SHAR,Sriharikota.\n",
    "The propulsion module will carry the lander and rover configuration till 1020 km lunar orbit.\n",
    "The propulsion module has Spectro-polarity of habitable Planet Earth (SHAPE) payload to study the spectral and polri metric Measurement of earth from the lunar\n",
    "\"\"\"\n",
    "pattern=r\"\\b\\w{1,5}\\b\"\n",
    "x=re.compile(pattern)\n",
    "result=re.findall(x,rob)\n",
    "print(result)"
   ]
  },
  {
   "cell_type": "code",
   "execution_count": 250,
   "id": "a8c8b418-a67f-4fff-9860-1bfcf508429d",
   "metadata": {},
   "outputs": [
    {
     "ename": "TypeError",
     "evalue": "expected string or bytes-like object, got 'tuple'",
     "output_type": "error",
     "traceback": [
      "\u001b[1;31m---------------------------------------------------------------------------\u001b[0m",
      "\u001b[1;31mTypeError\u001b[0m                                 Traceback (most recent call last)",
      "Cell \u001b[1;32mIn[250], line 2\u001b[0m\n\u001b[0;32m      1\u001b[0m string\u001b[38;5;241m=\u001b[39m\u001b[38;5;124m\"\u001b[39m\u001b[38;5;124mexample (.com)\u001b[39m\u001b[38;5;124m\"\u001b[39m, \u001b[38;5;124m\"\u001b[39m\u001b[38;5;124mhr@fliprobo (.com)\u001b[39m\u001b[38;5;124m\"\u001b[39m, \u001b[38;5;124m\"\u001b[39m\u001b[38;5;124mgithub (.com)\u001b[39m\u001b[38;5;124m\"\u001b[39m, \u001b[38;5;124m\"\u001b[39m\u001b[38;5;124mHello (Data Science World)\u001b[39m\u001b[38;5;124m\"\u001b[39m, \u001b[38;5;124m\"\u001b[39m\u001b[38;5;124mData (Scientist)\u001b[39m\u001b[38;5;124m\"\u001b[39m\n\u001b[1;32m----> 2\u001b[0m x\u001b[38;5;241m=\u001b[39mre\u001b[38;5;241m.\u001b[39msub(\u001b[38;5;124mr\u001b[39m\u001b[38;5;124m\"\u001b[39m\u001b[38;5;124m[()]\u001b[39m\u001b[38;5;124m\"\u001b[39m,\u001b[38;5;124m\"\u001b[39m\u001b[38;5;124m.n\u001b[39m\u001b[38;5;124m\"\u001b[39m,string)\n\u001b[0;32m      3\u001b[0m \u001b[38;5;28mprint\u001b[39m (x)\n",
      "File \u001b[1;32m~\\anaconda3\\Lib\\re\\__init__.py:185\u001b[0m, in \u001b[0;36msub\u001b[1;34m(pattern, repl, string, count, flags)\u001b[0m\n\u001b[0;32m    178\u001b[0m \u001b[38;5;28;01mdef\u001b[39;00m \u001b[38;5;21msub\u001b[39m(pattern, repl, string, count\u001b[38;5;241m=\u001b[39m\u001b[38;5;241m0\u001b[39m, flags\u001b[38;5;241m=\u001b[39m\u001b[38;5;241m0\u001b[39m):\n\u001b[0;32m    179\u001b[0m \u001b[38;5;250m    \u001b[39m\u001b[38;5;124;03m\"\"\"Return the string obtained by replacing the leftmost\u001b[39;00m\n\u001b[0;32m    180\u001b[0m \u001b[38;5;124;03m    non-overlapping occurrences of the pattern in string by the\u001b[39;00m\n\u001b[0;32m    181\u001b[0m \u001b[38;5;124;03m    replacement repl.  repl can be either a string or a callable;\u001b[39;00m\n\u001b[0;32m    182\u001b[0m \u001b[38;5;124;03m    if a string, backslash escapes in it are processed.  If it is\u001b[39;00m\n\u001b[0;32m    183\u001b[0m \u001b[38;5;124;03m    a callable, it's passed the Match object and must return\u001b[39;00m\n\u001b[0;32m    184\u001b[0m \u001b[38;5;124;03m    a replacement string to be used.\"\"\"\u001b[39;00m\n\u001b[1;32m--> 185\u001b[0m     \u001b[38;5;28;01mreturn\u001b[39;00m _compile(pattern, flags)\u001b[38;5;241m.\u001b[39msub(repl, string, count)\n",
      "\u001b[1;31mTypeError\u001b[0m: expected string or bytes-like object, got 'tuple'"
     ]
    }
   ],
   "source": [
    "string=\"example (.com)\", \"hr@fliprobo (.com)\", \"github (.com)\", \"Hello (Data Science World)\", \"Data (Scientist)\"\n",
    "x=re.sub(r\"[()]\",\".n\",string)\n",
    "print (x)"
   ]
  },
  {
   "cell_type": "code",
   "execution_count": 298,
   "id": "d03cfd25-5d1e-4df2-9401-8a4742b7e310",
   "metadata": {},
   "outputs": [
    {
     "name": "stdout",
     "output_type": "stream",
     "text": [
      "['I', 'm', '', 'p', '', 'o', '', 'r', '', 't', '', 'a', '', 'n', '', 'c', '', 'e', 'O', 'f', 'R', 'e', '', 'g', '', 'u', '', 'l', '', 'a', '', 'r', 'E', 'x', '', 'p', '', 'r', '', 'e', '', 's', '', 's', '', 'i', '', 'o', '', 'n', '', 's', 'I', 'n', 'P', 'y', '', 't', '', 'h', '', 'o', '', 'n', '']\n"
     ]
    }
   ],
   "source": [
    "import re\n",
    "string=\"ImportanceOfRegularExpressionsInPython\"\n",
    "x=re.split(r\"([^?A-Z])\",string)\n",
    "print(x)"
   ]
  },
  {
   "cell_type": "code",
   "execution_count": 316,
   "id": "e83bee65-6ef6-4372-8411-e123e0fb8246",
   "metadata": {},
   "outputs": [
    {
     "name": "stdout",
     "output_type": "stream",
     "text": [
      "<re.Match object; span=(0, 5), match='robin'>\n",
      "<re.Match object; span=(0, 5), match='robin'>\n",
      "<re.Match object; span=(0, 5), match='robin'>\n",
      "<re.Match object; span=(0, 5), match='robin'>\n",
      "<re.Match object; span=(0, 5), match='robin'>\n",
      "<re.Match object; span=(0, 5), match='robin'>\n",
      "<re.Match object; span=(0, 5), match='robin'>\n",
      "<re.Match object; span=(0, 5), match='robin'>\n",
      "<re.Match object; span=(0, 5), match='robin'>\n",
      "<re.Match object; span=(0, 5), match='robin'>\n",
      "<re.Match object; span=(0, 5), match='robin'>\n",
      "<re.Match object; span=(0, 5), match='robin'>\n",
      "<re.Match object; span=(0, 5), match='robin'>\n",
      "<re.Match object; span=(0, 5), match='robin'>\n",
      "<re.Match object; span=(0, 5), match='robin'>\n",
      "<re.Match object; span=(0, 5), match='robin'>\n",
      "<re.Match object; span=(0, 5), match='robin'>\n",
      "<re.Match object; span=(0, 5), match='robin'>\n",
      "<re.Match object; span=(0, 5), match='robin'>\n",
      "<re.Match object; span=(0, 5), match='robin'>\n",
      "<re.Match object; span=(0, 5), match='robin'>\n",
      "<re.Match object; span=(0, 5), match='robin'>\n",
      "<re.Match object; span=(0, 5), match='robin'>\n"
     ]
    }
   ],
   "source": [
    "string =\"robin is an ML enginner\"\n",
    "for i in string:\n",
    "    x=re.search(\"robin\",string)\n",
    "    print (x)"
   ]
  },
  {
   "cell_type": "code",
   "execution_count": 340,
   "id": "5776ae34-d6e7-4a9f-965e-ac358c7852cc",
   "metadata": {},
   "outputs": [],
   "source": [
    "cities=(\"hsr\",\"blr\",\"salem\")\n",
    "for i in cities:\n",
    "    if i==\"blr\":\n",
    "        break\n",
    "        print (i)\n"
   ]
  },
  {
   "cell_type": "code",
   "execution_count": null,
   "id": "c62170b2-5a28-4e70-9ab4-7ef2533c0364",
   "metadata": {},
   "outputs": [],
   "source": [
    "i=20\n",
    "while i>10:\n",
    "    i=i-1\n",
    "    print(\"robin\")"
   ]
  },
  {
   "cell_type": "code",
   "execution_count": null,
   "id": "9c87ba74-4a62-457e-b98b-3dbd2f46b851",
   "metadata": {},
   "outputs": [],
   "source": [
    "def my_robiin():\n",
    "    print (\"hello world\")"
   ]
  },
  {
   "cell_type": "code",
   "execution_count": 17,
   "id": "e718efbe-92d3-444e-b88a-621459d60b9f",
   "metadata": {},
   "outputs": [
    {
     "name": "stdin",
     "output_type": "stream",
     "text": [
      "enter the num: 11122\n"
     ]
    },
    {
     "ename": "TypeError",
     "evalue": "'int' object is not iterable",
     "output_type": "error",
     "traceback": [
      "\u001b[1;31m---------------------------------------------------------------------------\u001b[0m",
      "\u001b[1;31mTypeError\u001b[0m                                 Traceback (most recent call last)",
      "Cell \u001b[1;32mIn[17], line 2\u001b[0m\n\u001b[0;32m      1\u001b[0m x\u001b[38;5;241m=\u001b[39m\u001b[38;5;28mint\u001b[39m(\u001b[38;5;28minput\u001b[39m(\u001b[38;5;124m\"\u001b[39m\u001b[38;5;124menter the num:\u001b[39m\u001b[38;5;124m\"\u001b[39m))\n\u001b[1;32m----> 2\u001b[0m \u001b[38;5;28;01mfor\u001b[39;00m num \u001b[38;5;129;01min\u001b[39;00m x:\n\u001b[0;32m      3\u001b[0m     \u001b[38;5;28;01mif\u001b[39;00m num \u001b[38;5;241m%\u001b[39m\u001b[38;5;241m2\u001b[39m\u001b[38;5;241m==\u001b[39m\u001b[38;5;241m0\u001b[39m:\n\u001b[0;32m      4\u001b[0m         \u001b[38;5;28mprint\u001b[39m(\u001b[38;5;124m\"\u001b[39m\u001b[38;5;132;01m{x}\u001b[39;00m\u001b[38;5;124m,even number\u001b[39m\u001b[38;5;124m\"\u001b[39m)\n",
      "\u001b[1;31mTypeError\u001b[0m: 'int' object is not iterable"
     ]
    }
   ],
   "source": [
    "x=int(input(\"enter the num:\"))\n",
    "for num in x:\n",
    "    if num %2==0:\n",
    "        print(\"{x},even number\")\n",
    "    else:\n",
    "        print(\"{x},odd number\")"
   ]
  },
  {
   "cell_type": "code",
   "execution_count": 85,
   "id": "b90ea4b3-8f3c-44c9-959a-9aa01345d284",
   "metadata": {},
   "outputs": [
    {
     "name": "stdout",
     "output_type": "stream",
     "text": [
      "apple\n",
      "banana\n",
      "orange\n",
      "pear\n"
     ]
    }
   ],
   "source": [
    "basket = ['apple', 'orange', 'apple', 'pear', 'orange', 'banana']\n",
    "for f in sorted(set(basket)):\n",
    "    print(f)\n"
   ]
  },
  {
   "cell_type": "code",
   "execution_count": 87,
   "id": "e1a34a8f-6090-4568-8648-f561f25bb86d",
   "metadata": {},
   "outputs": [
    {
     "name": "stdout",
     "output_type": "stream",
     "text": [
      "18\n",
      "16\n",
      "14\n",
      "12\n",
      "10\n"
     ]
    }
   ],
   "source": [
    "for i in reversed(range(10,20,2)):\n",
    " print(i)\n"
   ]
  },
  {
   "cell_type": "code",
   "execution_count": 99,
   "id": "fa369f91-c173-484c-add2-479bbf576e87",
   "metadata": {},
   "outputs": [
    {
     "data": {
      "text/plain": [
       "[(0, 0), (1, 1), (2, 4), (3, 9), (4, 16), (5, 25)]"
      ]
     },
     "execution_count": 99,
     "metadata": {},
     "output_type": "execute_result"
    }
   ],
   "source": [
    "[(x, x**2) for x in range(6)]"
   ]
  },
  {
   "cell_type": "code",
   "execution_count": 107,
   "id": "cc4349b6-e6d7-4509-878c-41f0cab3119c",
   "metadata": {},
   "outputs": [
    {
     "name": "stdin",
     "output_type": "stream",
     "text": [
      "enter the num: 4\n"
     ]
    },
    {
     "name": "stdout",
     "output_type": "stream",
     "text": [
      "[4, 16]\n",
      "[4, 16]\n"
     ]
    }
   ],
   "source": [
    "x=int(input(\"enter the num:\"))\n",
    "for i in range (2):\n",
    "    i=[x,x**2]\n",
    "    print(i)"
   ]
  },
  {
   "cell_type": "code",
   "execution_count": 149,
   "id": "dbf6b08e-f53d-401b-bbe1-0275ce591619",
   "metadata": {},
   "outputs": [
    {
     "data": {
      "text/plain": [
       "[10, 8, 6, 4, 2, 0, 2, 4, 6, 8, 10]"
      ]
     },
     "execution_count": 149,
     "metadata": {},
     "output_type": "execute_result"
    }
   ],
   "source": [
    "rob= [-10,-8,-6,-4,-2,0,2,4,6,8,10]\n",
    "[x*2 for x in rob]\n",
    "[x for x in rob if x >4]\n",
    "[abs(x) for x in rob]"
   ]
  },
  {
   "cell_type": "code",
   "execution_count": 151,
   "id": "4feae9e6-cf3b-4257-8286-4213bccafc3d",
   "metadata": {},
   "outputs": [
    {
     "data": {
      "text/plain": [
       "['banana', 'loganberry', 'passion fruit']"
      ]
     },
     "execution_count": 151,
     "metadata": {},
     "output_type": "execute_result"
    }
   ],
   "source": [
    "freshfruit = [' banana', ' loganberry ', 'passion fruit ']\n",
    "[weapon.strip() for weapon in freshfruit]"
   ]
  },
  {
   "cell_type": "code",
   "execution_count": 225,
   "id": "14817433-cc29-471e-a4f5-708901c0c6ae",
   "metadata": {},
   "outputs": [
    {
     "name": "stdin",
     "output_type": "stream",
     "text": [
      "enter the number: 2\n"
     ]
    },
    {
     "name": "stdout",
     "output_type": "stream",
     "text": [
      "1*2=2\n",
      "2*2=4\n",
      "3*2=6\n",
      "4*2=8\n",
      "5*2=10\n",
      "6*2=12\n",
      "7*2=14\n",
      "8*2=16\n",
      "9*2=18\n",
      "10*2=20\n"
     ]
    }
   ],
   "source": [
    "n=int(input(\"enter the number:\"))\n",
    "for i in range(1,11,1):\n",
    "    print(f\"{i}*{n}={i*n}\")"
   ]
  },
  {
   "cell_type": "code",
   "execution_count": 1,
   "id": "4a46a912-02df-424e-8b02-0832efd4c6f7",
   "metadata": {},
   "outputs": [
    {
     "name": "stdin",
     "output_type": "stream",
     "text": [
      "enter the bum: 2\n"
     ]
    },
    {
     "name": "stdout",
     "output_type": "stream",
     "text": [
      "2\n",
      "4\n",
      "6\n",
      "8\n",
      "10\n",
      "12\n",
      "14\n",
      "16\n",
      "18\n",
      "20\n"
     ]
    }
   ],
   "source": [
    "n=int(input(\"enter the bum:\"))\n",
    "\n",
    "for i in range(1, 11, 1):\n",
    "    product = n * i\n",
    "    print(product)"
   ]
  },
  {
   "cell_type": "code",
   "execution_count": 3,
   "id": "e8bb1c01-8cd5-4cf4-a30f-e795f2b08334",
   "metadata": {},
   "outputs": [
    {
     "ename": "SyntaxError",
     "evalue": "invalid syntax (3353621611.py, line 17)",
     "output_type": "error",
     "traceback": [
      "\u001b[1;36m  Cell \u001b[1;32mIn[3], line 17\u001b[1;36m\u001b[0m\n\u001b[1;33m    else:\u001b[0m\n\u001b[1;37m    ^\u001b[0m\n\u001b[1;31mSyntaxError\u001b[0m\u001b[1;31m:\u001b[0m invalid syntax\n"
     ]
    }
   ],
   "source": [
    "def used_car_price(car_speed,car_brand,kmeters):\n",
    "    if car_year==2020:\n",
    "        if 10000<kmeters<=15000:\n",
    "            if car_brand==\"honda amaze\":\n",
    "                print(\"rs.690,000-rs.750,000\")\n",
    "            elif car_brand==\"hyundai creta\":\n",
    "                print(\"rs.945,000-rs.10,00,000\")\n",
    "            else:\n",
    "                print(\"no stack right now,visit us soon later:\")\n",
    "        elif 15000<kmeters<=25000:\n",
    "            if car_brand==\"honda amaze\":\n",
    "                print(\"rs.845,000-rs.600,000\")\n",
    "            elif car_brand==\"hyundai creta\":\n",
    "                print(\"rs.845,000-rs.980,000\")\n",
    "            else:\n",
    "                print(\"no stacks right now.please visit us soon later:\")\n",
    "            else:\n",
    "               print (\"come back soon\")\n",
    "        elif car_year==2021:\n",
    "            if 10000<kmeters<=15000:\n",
    "            if car_brand==\"honda amaze\":\n",
    "                print(\"rs.10,45,000-rs.15,00,000\")\n",
    "            elif car_brand==\"hyundai creta\":\n",
    "                print(\"rs.16,00,000-rs.20,00,000\")\n",
    "            else:\n",
    "                print(\"no stacks avaible\")\n",
    "    \n"
   ]
  },
  {
   "cell_type": "code",
   "execution_count": null,
   "id": "862c491c-a30c-47c7-afad-157a711b5e80",
   "metadata": {},
   "outputs": [],
   "source": [
    "x=10\n",
    "while(x<20):\n",
    "    print(x)\n",
    "    x = x+1"
   ]
  },
  {
   "cell_type": "code",
   "execution_count": 57,
   "id": "1cacd893-8c00-4586-9e21-e76a9aeb47ca",
   "metadata": {},
   "outputs": [
    {
     "name": "stdout",
     "output_type": "stream",
     "text": [
      "20\n",
      "19\n",
      "18\n",
      "17\n",
      "16\n",
      "15\n",
      "14\n",
      "13\n",
      "12\n",
      "11\n"
     ]
    }
   ],
   "source": [
    "x=20\n",
    "while(x>10):\n",
    "    print(x)\n",
    "    x = x-1"
   ]
  },
  {
   "cell_type": "code",
   "execution_count": null,
   "id": "2c555820-dcfe-4eec-b70c-81fb0e59bf7b",
   "metadata": {},
   "outputs": [],
   "source": [
    "for x in range(2,7):\n",
    "  print(x)"
   ]
  },
  {
   "cell_type": "code",
   "execution_count": 5,
   "id": "7ec3ec5c-3c23-40c9-b7d1-b61b1221c183",
   "metadata": {},
   "outputs": [
    {
     "name": "stdin",
     "output_type": "stream",
     "text": [
      "Enter number  1\n"
     ]
    },
    {
     "name": "stdout",
     "output_type": "stream",
     "text": [
      "Sum is:  1\n"
     ]
    }
   ],
   "source": [
    "s = 0\n",
    "n = int(input(\"Enter number \"))\n",
    "for i in range(1, n + 1, 1):\n",
    "    s =s+i\n",
    "print(\"Sum is: \", s)"
   ]
  },
  {
   "cell_type": "code",
   "execution_count": 29,
   "id": "19705101-20ae-4de2-b254-4c2d28946270",
   "metadata": {},
   "outputs": [
    {
     "data": {
      "text/plain": [
       "True"
      ]
     },
     "execution_count": 29,
     "metadata": {},
     "output_type": "execute_result"
    }
   ],
   "source": [
    "starship = \"Enterprise\"\n",
    "starship.endswith(\"rise\")"
   ]
  },
  {
   "cell_type": "code",
   "execution_count": 33,
   "id": "cef814a9-0628-4e18-a456-d52cde4e0b21",
   "metadata": {},
   "outputs": [
    {
     "data": {
      "text/plain": [
       "'goodbye sir'"
      ]
     },
     "execution_count": 33,
     "metadata": {},
     "output_type": "execute_result"
    }
   ],
   "source": [
    "rob=\"welcome sir\"\n",
    "rob.replace (\"welcome\",\"goodbye\")"
   ]
  },
  {
   "cell_type": "code",
   "execution_count": 39,
   "id": "15c00b3a-2ac0-4e39-9bd5-0288e74091c2",
   "metadata": {},
   "outputs": [
    {
     "data": {
      "text/plain": [
       "4"
      ]
     },
     "execution_count": 39,
     "metadata": {},
     "output_type": "execute_result"
    }
   ],
   "source": [
    "phrase = \"the surprise is in here somewhere\"\n",
    "phrase.find(\"surprise\")"
   ]
  },
  {
   "cell_type": "code",
   "execution_count": 45,
   "id": "a0e82a68-ccdb-4589-a89a-15ff54e2d74e",
   "metadata": {},
   "outputs": [
    {
     "name": "stdout",
     "output_type": "stream",
     "text": [
      "['Hello', 'World', 'DataTrained']\n"
     ]
    }
   ],
   "source": [
    "text = \"Hello World DataTrained\"\n",
    "# splits at space\n",
    "print(text.split())"
   ]
  },
  {
   "cell_type": "code",
   "execution_count": 1,
   "id": "b51427d3-8f5d-490f-925a-840b4b5f2cdd",
   "metadata": {},
   "outputs": [
    {
     "name": "stdin",
     "output_type": "stream",
     "text": [
      "enter the num: 3\n"
     ]
    },
    {
     "name": "stdout",
     "output_type": "stream",
     "text": [
      "odd num is : 1\n",
      "even num is : 2\n",
      "odd num is : 3\n",
      "even num is : 4\n",
      "odd num is : 5\n"
     ]
    }
   ],
   "source": [
    "num=int(input(\"enter the num:\"))\n",
    "for num in range(1,6):\n",
    "    if num % 2 ==0:\n",
    "        print(\"even num is :\",num)\n",
    "    else:\n",
    "        print (\"odd num is :\",num)"
   ]
  },
  {
   "cell_type": "code",
   "execution_count": 3,
   "id": "2b05a55c-c3ff-45de-931f-225bf6e9a98c",
   "metadata": {},
   "outputs": [],
   "source": [
    "extra_marks=10\n",
    "def rob():\n",
    "    print(\"the total marks are :\",30+extra_marks)\n"
   ]
  },
  {
   "cell_type": "code",
   "execution_count": 5,
   "id": "f802f705-3b2c-4d53-aad0-82342daf39b2",
   "metadata": {},
   "outputs": [
    {
     "name": "stdout",
     "output_type": "stream",
     "text": [
      "the total marks are : 40\n"
     ]
    }
   ],
   "source": [
    "rob()"
   ]
  },
  {
   "cell_type": "code",
   "execution_count": 11,
   "id": "ecfcb980-b1c5-4c31-86d2-2af99a62894a",
   "metadata": {},
   "outputs": [],
   "source": [
    "apple=100\n",
    "discounted_price=10\n",
    "def fruits():\n",
    "    print (\"the discounted price for apple is:\",apple-discounted_price) "
   ]
  },
  {
   "cell_type": "code",
   "execution_count": 9,
   "id": "3d11dbef-1052-465c-b7c4-1fc109a16511",
   "metadata": {},
   "outputs": [
    {
     "name": "stdout",
     "output_type": "stream",
     "text": [
      "the discounted price for apple is: 90\n"
     ]
    }
   ],
   "source": [
    "fruits()"
   ]
  },
  {
   "cell_type": "code",
   "execution_count": 23,
   "id": "8b0b9cf6-6944-4e95-a537-67ee3deaa4ee",
   "metadata": {},
   "outputs": [],
   "source": [
    "def robin():\n",
    "    clothes=100\n",
    "    print (\"the price for  discounted clothes are:\",clothes-20)\n",
    "    "
   ]
  },
  {
   "cell_type": "code",
   "execution_count": 27,
   "id": "1d63b9a7-ab16-47fc-8b1d-dd82d7e212bf",
   "metadata": {},
   "outputs": [
    {
     "name": "stdout",
     "output_type": "stream",
     "text": [
      "the price for  discounted clothes are: 80\n"
     ]
    }
   ],
   "source": [
    "robin()"
   ]
  },
  {
   "cell_type": "code",
   "execution_count": 31,
   "id": "49bc08e7-d2bb-40cf-a798-29b0f3e05918",
   "metadata": {},
   "outputs": [],
   "source": [
    "def local_global():\n",
    "    global rob\n",
    "    rob=\"they performed well\"\n",
    "    print(rob)"
   ]
  },
  {
   "cell_type": "code",
   "execution_count": 37,
   "id": "12ee7604-1a96-4e6f-8447-daea58080f1f",
   "metadata": {},
   "outputs": [
    {
     "name": "stdout",
     "output_type": "stream",
     "text": [
      "they performed well\n"
     ]
    }
   ],
   "source": [
    "local_global()"
   ]
  },
  {
   "cell_type": "code",
   "execution_count": 41,
   "id": "d2183cd3-fec5-4cb9-85cb-69bf63469569",
   "metadata": {},
   "outputs": [
    {
     "name": "stdout",
     "output_type": "stream",
     "text": [
      "they performed well\n"
     ]
    }
   ],
   "source": [
    "print (rob)"
   ]
  },
  {
   "cell_type": "code",
   "execution_count": 55,
   "id": "d466706e-463a-4dfe-86a6-1d4ddcca8e6c",
   "metadata": {},
   "outputs": [
    {
     "name": "stdout",
     "output_type": "stream",
     "text": [
      "['ROB', 'RUB', 'SPOOKY', 'JACK']\n"
     ]
    }
   ],
   "source": [
    "my_pets=[\"rob\",\"rub\",\"spooky\",\"jack\"]\n",
    "uppered_pets=list(map(str.upper,my_pets))\n",
    "print(uppered_pets)"
   ]
  },
  {
   "cell_type": "code",
   "execution_count": 77,
   "id": "e01175e0-54a9-4e42-944e-a9e8496a99e6",
   "metadata": {},
   "outputs": [],
   "source": [
    "def filtered_marks():\n",
    "    if marks<35:\n",
    "        return marks\n",
    "        marks=[55,44,33,32,37,30,28]\n",
    "        failed=list(filter(filtered_marks,marks))\n",
    "        print (failed)"
   ]
  },
  {
   "cell_type": "code",
   "execution_count": 1,
   "id": "67778d57-7f14-44ac-95fd-0b6edf956c49",
   "metadata": {},
   "outputs": [
    {
     "ename": "NameError",
     "evalue": "name 'filtered_marks' is not defined",
     "output_type": "error",
     "traceback": [
      "\u001b[1;31m---------------------------------------------------------------------------\u001b[0m",
      "\u001b[1;31mNameError\u001b[0m                                 Traceback (most recent call last)",
      "Cell \u001b[1;32mIn[1], line 1\u001b[0m\n\u001b[1;32m----> 1\u001b[0m filtered_marks()\n",
      "\u001b[1;31mNameError\u001b[0m: name 'filtered_marks' is not defined"
     ]
    }
   ],
   "source": [
    "filtered_marks()"
   ]
  },
  {
   "cell_type": "code",
   "execution_count": 11,
   "id": "88c141f7-e90c-4cf8-9c9d-bf0e975f658a",
   "metadata": {},
   "outputs": [
    {
     "name": "stdout",
     "output_type": "stream",
     "text": [
      "1\n",
      "2\n",
      "3\n",
      "Generator is exhausted.\n"
     ]
    }
   ],
   "source": [
    "def my_generator():\n",
    "    yield 1\n",
    "    yield 2\n",
    "    yield 3\n",
    "\n",
    "gen = my_generator()\n",
    "\n",
    "try:\n",
    "    while True:\n",
    "        print(next(gen))\n",
    "except StopIteration:\n",
    "    print(\"Generator is exhausted.\")\n"
   ]
  },
  {
   "cell_type": "code",
   "execution_count": 17,
   "id": "21816b0d-dd82-4c05-a780-e64e4f3c6d19",
   "metadata": {},
   "outputs": [
    {
     "name": "stdout",
     "output_type": "stream",
     "text": [
      "This is before the exit.\n"
     ]
    },
    {
     "ename": "SystemExit",
     "evalue": "",
     "output_type": "error",
     "traceback": [
      "An exception has occurred, use %tb to see the full traceback.\n",
      "\u001b[1;31mSystemExit\u001b[0m\n"
     ]
    }
   ],
   "source": [
    "import sys\n",
    "\n",
    "print(\"This is before the exit.\")\n",
    "sys.exit()\n",
    "print(\"This will not be printed.\")\n"
   ]
  },
  {
   "cell_type": "code",
   "execution_count": 27,
   "id": "e58e943a-d751-471e-b805-71efbf100aed",
   "metadata": {},
   "outputs": [
    {
     "name": "stdout",
     "output_type": "stream",
     "text": [
      "This is standard output.\n"
     ]
    },
    {
     "name": "stderr",
     "output_type": "stream",
     "text": [
      "This is standard error.\n"
     ]
    }
   ],
   "source": [
    "import sys\n",
    "\n",
    "print(\"This is standard output.\")\n",
    "print(\"This is standard error.\", file=sys.stderr)\n",
    "\n"
   ]
  },
  {
   "cell_type": "code",
   "execution_count": 31,
   "id": "e77590ab-8dbc-4a23-b834-cce67cd2956f",
   "metadata": {},
   "outputs": [
    {
     "name": "stderr",
     "output_type": "stream",
     "text": [
      "Error: division by zero\n"
     ]
    }
   ],
   "source": [
    "import sys\n",
    "\n",
    "def divide(a, b):\n",
    "    try:\n",
    "        return a / b\n",
    "    except ZeroDivisionError as e:\n",
    "        print(f\"Error: {e}\", file=sys.stderr)\n",
    "\n",
    "result = divide(10, 0)\n"
   ]
  },
  {
   "cell_type": "code",
   "execution_count": 47,
   "id": "1002a785-a1d4-4c3a-8cb7-ecd05da632dc",
   "metadata": {},
   "outputs": [
    {
     "name": "stdin",
     "output_type": "stream",
     "text": [
      "enter the num 0\n"
     ]
    },
    {
     "name": "stdout",
     "output_type": "stream",
     "text": [
      "ZeroDivisionError: division by zero\n"
     ]
    }
   ],
   "source": [
    "try:\n",
    "    num=int(input(\"enter the num\"))\n",
    "    result = 10 / num\n",
    "except ZeroDivisionError as e:\n",
    "    print(f\"ZeroDivisionError: {e}\")"
   ]
  },
  {
   "cell_type": "code",
   "execution_count": 58,
   "id": "4000244c-fcf1-4971-8457-f61b5af264d6",
   "metadata": {},
   "outputs": [],
   "source": [
    "import sys\n",
    "try:\n",
    "    result = sys.maxsize * 2\n",
    "except OverflowError as e:\n",
    "    print(f\"OverflowError: {e}\")"
   ]
  },
  {
   "cell_type": "code",
   "execution_count": 66,
   "id": "29389587-e0af-4709-9886-7e9947a3f9e1",
   "metadata": {},
   "outputs": [
    {
     "name": "stdout",
     "output_type": "stream",
     "text": [
      "1267650600228229401496703205376\n"
     ]
    }
   ],
   "source": [
    "try:\n",
    "    result = 2 ** 100\n",
    "    print(result)\n",
    "except OverflowError as e:\n",
    "    print(f\"OverflowError: {e}\")\n"
   ]
  },
  {
   "cell_type": "code",
   "execution_count": 70,
   "id": "9bcfd2f8-fadc-4b9d-9528-78bae4bca091",
   "metadata": {},
   "outputs": [
    {
     "name": "stdout",
     "output_type": "stream",
     "text": [
      "FloatingPointError: math range error\n"
     ]
    }
   ],
   "source": [
    "import math\n",
    "\n",
    "try:\n",
    "    math.exp(1000)  # Exponentiation can cause overflow\n",
    "except OverflowError as e:\n",
    "    print(f\"FloatingPointError: {e}\")"
   ]
  },
  {
   "cell_type": "code",
   "execution_count": 76,
   "id": "bfdff74c-8f09-493a-aa97-dffe99ab17ed",
   "metadata": {},
   "outputs": [
    {
     "name": "stdout",
     "output_type": "stream",
     "text": [
      "OverflowError: math range error\n"
     ]
    }
   ],
   "source": [
    "import math\n",
    "\n",
    "try:\n",
    "    # This may cause an overflow\n",
    "    result = math.exp(1000)  # Exponential function\n",
    "except OverflowError as e:\n",
    "    print(f\"OverflowError: {e}\")\n"
   ]
  },
  {
   "cell_type": "code",
   "execution_count": 84,
   "id": "6ab71ea2-29b1-411f-9682-7716d20badd8",
   "metadata": {},
   "outputs": [
    {
     "name": "stdout",
     "output_type": "stream",
     "text": [
      "5.0\n"
     ]
    },
    {
     "ename": "AssertionError",
     "evalue": "Division by zero is not allowed",
     "output_type": "error",
     "traceback": [
      "\u001b[1;31m---------------------------------------------------------------------------\u001b[0m",
      "\u001b[1;31mAssertionError\u001b[0m                            Traceback (most recent call last)",
      "Cell \u001b[1;32mIn[84], line 6\u001b[0m\n\u001b[0;32m      3\u001b[0m     \u001b[38;5;28;01mreturn\u001b[39;00m a \u001b[38;5;241m/\u001b[39m b\n\u001b[0;32m      5\u001b[0m \u001b[38;5;28mprint\u001b[39m(divide(\u001b[38;5;241m10\u001b[39m, \u001b[38;5;241m2\u001b[39m))  \u001b[38;5;66;03m# This will work fine\u001b[39;00m\n\u001b[1;32m----> 6\u001b[0m \u001b[38;5;28mprint\u001b[39m(divide(\u001b[38;5;241m10\u001b[39m, \u001b[38;5;241m0\u001b[39m))\n",
      "Cell \u001b[1;32mIn[84], line 2\u001b[0m, in \u001b[0;36mdivide\u001b[1;34m(a, b)\u001b[0m\n\u001b[0;32m      1\u001b[0m \u001b[38;5;28;01mdef\u001b[39;00m \u001b[38;5;21mdivide\u001b[39m(a, b):\n\u001b[1;32m----> 2\u001b[0m     \u001b[38;5;28;01massert\u001b[39;00m b \u001b[38;5;241m!=\u001b[39m \u001b[38;5;241m0\u001b[39m, \u001b[38;5;124m\"\u001b[39m\u001b[38;5;124mDivision by zero is not allowed\u001b[39m\u001b[38;5;124m\"\u001b[39m\n\u001b[0;32m      3\u001b[0m     \u001b[38;5;28;01mreturn\u001b[39;00m a \u001b[38;5;241m/\u001b[39m b\n",
      "\u001b[1;31mAssertionError\u001b[0m: Division by zero is not allowed"
     ]
    }
   ],
   "source": [
    "def divide(a, b):\n",
    "    assert b != 0, \"Division by zero is not allowed\"\n",
    "    return a / b\n",
    "\n",
    "print(divide(10, 2))  # This will work fine\n",
    "print(divide(10, 0))  # This will raise an AssertionError\n"
   ]
  },
  {
   "cell_type": "code",
   "execution_count": 90,
   "id": "05cc955a-8342-4211-bbd0-b14fb30ab8da",
   "metadata": {},
   "outputs": [
    {
     "ename": "AttributeError",
     "evalue": "'MyClass' object has no attribute 'valu'",
     "output_type": "error",
     "traceback": [
      "\u001b[1;31m---------------------------------------------------------------------------\u001b[0m",
      "\u001b[1;31mAttributeError\u001b[0m                            Traceback (most recent call last)",
      "Cell \u001b[1;32mIn[90], line 8\u001b[0m\n\u001b[0;32m      5\u001b[0m obj \u001b[38;5;241m=\u001b[39m MyClass()\n\u001b[0;32m      7\u001b[0m \u001b[38;5;66;03m# This will raise AttributeError because 'valu' is a typo\u001b[39;00m\n\u001b[1;32m----> 8\u001b[0m \u001b[38;5;28mprint\u001b[39m(obj\u001b[38;5;241m.\u001b[39mvalu)\n",
      "\u001b[1;31mAttributeError\u001b[0m: 'MyClass' object has no attribute 'valu'"
     ]
    }
   ],
   "source": [
    "class MyClass:\n",
    "    def __init__(self):\n",
    "        self.value = 10\n",
    "\n",
    "obj = MyClass()\n",
    "\n",
    "# This will raise AttributeError because 'valu' is a typo\n",
    "print(obj.valu)\n"
   ]
  },
  {
   "cell_type": "code",
   "execution_count": 119,
   "id": "197c0efa-e32a-48ae-a57e-dc518376d44b",
   "metadata": {},
   "outputs": [
    {
     "name": "stdin",
     "output_type": "stream",
     "text": [
      "Enter something:  kbbyyu\n"
     ]
    },
    {
     "name": "stdout",
     "output_type": "stream",
     "text": [
      "You entered: kbbyyu\n"
     ]
    }
   ],
   "source": [
    "try:\n",
    "    user_input = input(\"Enter something: \")\n",
    "    print(f\"You entered: {user_input}\")\n",
    "except EOFError as e:\n",
    "    print(f\"EOFError: {e}\")\n"
   ]
  },
  {
   "cell_type": "code",
   "execution_count": 121,
   "id": "69e94d78-5169-4e3d-b149-fd305c753014",
   "metadata": {},
   "outputs": [
    {
     "name": "stdout",
     "output_type": "stream",
     "text": [
      "ImportError: No module named 'numpyy'\n"
     ]
    }
   ],
   "source": [
    "try:\n",
    "    import numpyy\n",
    "except ImportError as e:\n",
    "    print(f\"ImportError: {e}\")\n"
   ]
  },
  {
   "cell_type": "code",
   "execution_count": 123,
   "id": "d22c36b6-d275-495a-9ecd-b086af50645b",
   "metadata": {},
   "outputs": [
    {
     "name": "stdout",
     "output_type": "stream",
     "text": [
      "Running... Press Ctrl+C to stop.\n"
     ]
    },
    {
     "ename": "NameError",
     "evalue": "name 'time' is not defined",
     "output_type": "error",
     "traceback": [
      "\u001b[1;31m---------------------------------------------------------------------------\u001b[0m",
      "\u001b[1;31mNameError\u001b[0m                                 Traceback (most recent call last)",
      "Cell \u001b[1;32mIn[123], line 4\u001b[0m\n\u001b[0;32m      2\u001b[0m     \u001b[38;5;28;01mwhile\u001b[39;00m \u001b[38;5;28;01mTrue\u001b[39;00m:\n\u001b[0;32m      3\u001b[0m         \u001b[38;5;28mprint\u001b[39m(\u001b[38;5;124m\"\u001b[39m\u001b[38;5;124mRunning... Press Ctrl+C to stop.\u001b[39m\u001b[38;5;124m\"\u001b[39m)\n\u001b[1;32m----> 4\u001b[0m         time\u001b[38;5;241m.\u001b[39msleep(\u001b[38;5;241m1\u001b[39m)  \u001b[38;5;66;03m# Sleep for a while to simulate work\u001b[39;00m\n\u001b[0;32m      5\u001b[0m \u001b[38;5;28;01mexcept\u001b[39;00m \u001b[38;5;167;01mKeyboardInterrupt\u001b[39;00m:\n\u001b[0;32m      6\u001b[0m     \u001b[38;5;28mprint\u001b[39m(\u001b[38;5;124m\"\u001b[39m\u001b[38;5;124mInterrupted by user. Exiting...\u001b[39m\u001b[38;5;124m\"\u001b[39m)\n",
      "\u001b[1;31mNameError\u001b[0m: name 'time' is not defined"
     ]
    }
   ],
   "source": [
    "try:\n",
    "    while True:\n",
    "        print(\"Running... Press Ctrl+C to stop.\")\n",
    "        time.sleep(1)  # Sleep for a while to simulate work\n",
    "except KeyboardInterrupt:\n",
    "    print(\"Interrupted by user. Exiting...\")\n"
   ]
  },
  {
   "cell_type": "code",
   "execution_count": 129,
   "id": "4d32631f-c3bb-4945-9daa-493f6c392d3a",
   "metadata": {},
   "outputs": [
    {
     "name": "stdout",
     "output_type": "stream",
     "text": [
      "This is a test message.\n",
      "Caught a SystemExit exception.\n",
      "Program continues after catching SystemExit.\n"
     ]
    }
   ],
   "source": [
    "import sys\n",
    "\n",
    "try:\n",
    "    print(\"This is a test message.\")\n",
    "    sys.exit()\n",
    "    print(\"This message will not be printed.\")\n",
    "except SystemExit:\n",
    "    print(\"Caught a SystemExit exception.\")\n",
    "\n",
    "print(\"Program continues after catching SystemExit.\")\n",
    "\n",
    "# Output:\n",
    "# This is a test message.\n",
    "# Caught a SystemExit exception.\n",
    "# Program continues after catching SystemExit."
   ]
  },
  {
   "cell_type": "code",
   "execution_count": 137,
   "id": "80bacd3e-b765-4140-a2de-cddcd6e08d9b",
   "metadata": {},
   "outputs": [
    {
     "name": "stdout",
     "output_type": "stream",
     "text": [
      "IndexError: list index out of range\n"
     ]
    }
   ],
   "source": [
    "my_list = [1, 2, 3]\n",
    "\n",
    "try:\n",
    "    print(my_list[5])  # Accessing an index that doesn't exist\n",
    "except IndexError as e:\n",
    "    print(f\"IndexError: {e}\")\n"
   ]
  },
  {
   "cell_type": "code",
   "execution_count": 141,
   "id": "43d9bfae-5db7-4b0e-a561-2e5029fc9064",
   "metadata": {},
   "outputs": [
    {
     "name": "stdout",
     "output_type": "stream",
     "text": [
      "KeyError: 'c'\n"
     ]
    }
   ],
   "source": [
    "my_dict = {'a': 1, 'b': 2}\n",
    "\n",
    "try:\n",
    "    print(my_dict['c'])  # Accessing a key that doesn't exist\n",
    "except KeyError as e:\n",
    "    print(f\"KeyError: {e}\")\n"
   ]
  },
  {
   "cell_type": "code",
   "execution_count": 145,
   "id": "e13fd00b-8199-45a5-a9d8-4b000a1cfb01",
   "metadata": {},
   "outputs": [
    {
     "name": "stdout",
     "output_type": "stream",
     "text": [
      "NameError: name 'x' is not defined\n"
     ]
    }
   ],
   "source": [
    "try:\n",
    "    print(x)  # x is not defined\n",
    "except NameError as e:\n",
    "    print(f\"NameError: {e}\")\n"
   ]
  },
  {
   "cell_type": "code",
   "execution_count": 149,
   "id": "40de67ea-29da-4d53-93c2-ca860a3c59c6",
   "metadata": {},
   "outputs": [
    {
     "name": "stdout",
     "output_type": "stream",
     "text": [
      "UnboundLocalError: cannot access local variable 'x' where it is not associated with a value\n"
     ]
    }
   ],
   "source": [
    "def example_function():\n",
    "    try:\n",
    "        print(x)  # x is not assigned a value before use\n",
    "        x = 10\n",
    "    except UnboundLocalError as e:\n",
    "        print(f\"UnboundLocalError: {e}\")\n",
    "\n",
    "example_function()\n"
   ]
  },
  {
   "cell_type": "code",
   "execution_count": 153,
   "id": "93a4dc34-f338-46f1-89fd-0d1386a30071",
   "metadata": {},
   "outputs": [
    {
     "name": "stdout",
     "output_type": "stream",
     "text": [
      "IOError: [Errno 2] No such file or directory: 'non_existent_file.txt'\n"
     ]
    }
   ],
   "source": [
    "try:\n",
    "    with open('non_existent_file.txt', 'r') as file:\n",
    "        content = file.read()\n",
    "except IOError as e:\n",
    "    print(f\"IOError: {e}\")\n"
   ]
  },
  {
   "cell_type": "code",
   "execution_count": 157,
   "id": "3918a8b7-e9ac-4c22-8b88-b482df39b672",
   "metadata": {},
   "outputs": [
    {
     "name": "stdout",
     "output_type": "stream",
     "text": [
      "IOError: [Errno 2] No such file or directory: '/root/protected_file.txt'\n"
     ]
    }
   ],
   "source": [
    "try:\n",
    "    with open('/root/protected_file.txt', 'w') as file:\n",
    "        file.write(\"Writing to a protected file\")\n",
    "except IOError as e:\n",
    "    print(f\"IOError: {e}\")\n"
   ]
  },
  {
   "cell_type": "code",
   "execution_count": 161,
   "id": "bb9cfa84-bc20-4b89-ac38-f41feec87d5c",
   "metadata": {},
   "outputs": [
    {
     "ename": "SyntaxError",
     "evalue": "'(' was never closed (3042918624.py, line 2)",
     "output_type": "error",
     "traceback": [
      "\u001b[1;36m  Cell \u001b[1;32mIn[161], line 2\u001b[1;36m\u001b[0m\n\u001b[1;33m    print(\"Hello, world!\"  # Missing closing parenthesis\u001b[0m\n\u001b[1;37m         ^\u001b[0m\n\u001b[1;31mSyntaxError\u001b[0m\u001b[1;31m:\u001b[0m '(' was never closed\n"
     ]
    }
   ],
   "source": [
    "try:\n",
    "    print(\"Hello, world!\"  # Missing closing parenthesis\n",
    "except SyntaxError as e:\n",
    "    print(f\"SyntaxError: {e}\")\n"
   ]
  },
  {
   "cell_type": "code",
   "execution_count": 165,
   "id": "679839d2-9e98-4dd7-9d2f-91b376592f70",
   "metadata": {},
   "outputs": [
    {
     "ename": "IndentationError",
     "evalue": "unexpected indent (949483408.py, line 3)",
     "output_type": "error",
     "traceback": [
      "\u001b[1;36m  Cell \u001b[1;32mIn[165], line 3\u001b[1;36m\u001b[0m\n\u001b[1;33m    y = 20  # Indentation is inconsistent with the previous line\u001b[0m\n\u001b[1;37m    ^\u001b[0m\n\u001b[1;31mIndentationError\u001b[0m\u001b[1;31m:\u001b[0m unexpected indent\n"
     ]
    }
   ],
   "source": [
    "def example_function():\n",
    "    x = 10\n",
    "      y = 20  # Indentation is inconsistent with the previous line\n",
    "\n",
    "try:\n",
    "    example_function()\n",
    "except IndentationError as e:\n",
    "    print(f\"IndentationError: {e}\")\n"
   ]
  },
  {
   "cell_type": "code",
   "execution_count": 171,
   "id": "98a572a0-debd-4527-b83e-17fca5ca0978",
   "metadata": {},
   "outputs": [],
   "source": [
    "import sys\n",
    "\n",
    "sys.path.append('corrupt_path')  # Adding a corrupt or invalid path might cause issues\n"
   ]
  },
  {
   "cell_type": "code",
   "execution_count": 177,
   "id": "ac8ce53c-0c99-4511-ac29-0bce8e9ba15d",
   "metadata": {},
   "outputs": [],
   "source": [
    "import ctypes\n",
    "\n",
    "try:\n",
    "    ctypes.pythonapi.Py_SetProgramName(None)  # Improper use of internal API\n",
    "except SystemError as e:\n",
    "    print(f\"SystemError: {e}\")\n"
   ]
  },
  {
   "cell_type": "code",
   "execution_count": 181,
   "id": "2cbce643-1aa4-4606-8e8a-3810398f2e90",
   "metadata": {},
   "outputs": [],
   "source": [
    "import ctypes\n",
    "\n",
    "try:\n",
    "    ctypes.pythonapi.Py_SetProgramName(None)  # Improper use of internal API\n",
    "except SystemError as e:\n",
    "    print(f\"SystemError: {e}\")\n"
   ]
  },
  {
   "cell_type": "code",
   "execution_count": 185,
   "id": "f0f3ec34-572d-44ca-96cb-394e78ebf5da",
   "metadata": {},
   "outputs": [
    {
     "name": "stdout",
     "output_type": "stream",
     "text": [
      "Program is about to exit.\n",
      "Caught SystemExit with code: 0\n"
     ]
    }
   ],
   "source": [
    "import sys\n",
    "\n",
    "def main():\n",
    "    print(\"Program is about to exit.\")\n",
    "    sys.exit(0)  # Exit the program with status code 0\n",
    "\n",
    "try:\n",
    "    main()\n",
    "except SystemExit as e:\n",
    "    print(f\"Caught SystemExit with code: {e.code}\")\n"
   ]
  },
  {
   "cell_type": "code",
   "execution_count": 189,
   "id": "23d529c8-cf0d-4a6e-a235-6af52ebf44b0",
   "metadata": {},
   "outputs": [
    {
     "name": "stdout",
     "output_type": "stream",
     "text": [
      "TypeError: can only concatenate str (not \"int\") to str\n"
     ]
    }
   ],
   "source": [
    "try:\n",
    "    result = \"hello\" + 5  # Attempting to add a string and an integer\n",
    "except TypeError as e:\n",
    "    print(f\"TypeError: {e}\")\n"
   ]
  },
  {
   "cell_type": "code",
   "execution_count": 193,
   "id": "60235598-2bc0-49f8-ac2d-04e9634713fc",
   "metadata": {},
   "outputs": [
    {
     "name": "stdout",
     "output_type": "stream",
     "text": [
      "ValueError: invalid literal for int() with base 10: 'abc'\n"
     ]
    }
   ],
   "source": [
    "try:\n",
    "    number = int(\"abc\")  # Attempting to convert a non-numeric string to an integer\n",
    "except ValueError as e:\n",
    "    print(f\"ValueError: {e}\")\n"
   ]
  },
  {
   "cell_type": "code",
   "execution_count": 197,
   "id": "d9c65220-d295-4986-badd-dbc907dd5598",
   "metadata": {},
   "outputs": [
    {
     "name": "stdout",
     "output_type": "stream",
     "text": [
      "RuntimeError: Value cannot be negative\n"
     ]
    }
   ],
   "source": [
    "class CustomClass:\n",
    "    def __init__(self, value):\n",
    "        if value < 0:\n",
    "            raise RuntimeError(\"Value cannot be negative\")\n",
    "\n",
    "try:\n",
    "    obj = CustomClass(-1)  # Raises RuntimeError\n",
    "except RuntimeError as e:\n",
    "    print(f\"RuntimeError: {e}\")\n"
   ]
  },
  {
   "cell_type": "code",
   "execution_count": 3,
   "id": "dcb04b1d-5905-489b-9d22-b47166284524",
   "metadata": {},
   "outputs": [
    {
     "name": "stdout",
     "output_type": "stream",
     "text": [
      "NotImplementedError: This function is not implemented yet\n"
     ]
    }
   ],
   "source": [
    "def some_function():\n",
    "    raise NotImplementedError(\"This function is not implemented yet\")\n",
    "\n",
    "try:\n",
    "    some_function()  # This will raise NotImplementedError\n",
    "except NotImplementedError as e:\n",
    "    print(f\"NotImplementedError: {e}\")\n"
   ]
  },
  {
   "cell_type": "code",
   "execution_count": 23,
   "id": "c3ef8005-4ad7-404b-955d-d3e13e644c26",
   "metadata": {},
   "outputs": [
    {
     "name": "stdin",
     "output_type": "stream",
     "text": [
      " 1 2 3 4 5 \n",
      "1 2 3 4 5  rfrfer\n"
     ]
    },
    {
     "name": "stdout",
     "output_type": "stream",
     "text": [
      "rfrfer\n"
     ]
    }
   ],
   "source": [
    "rob=input(input())\n",
    "print (rob)\n"
   ]
  },
  {
   "cell_type": "code",
   "execution_count": null,
   "id": "ef28d4dc-dbfe-4108-928d-327a8ce06505",
   "metadata": {},
   "outputs": [],
   "source": []
  },
  {
   "cell_type": "code",
   "execution_count": 25,
   "id": "773805b5-8a00-4cab-becf-f7f4cc0d7288",
   "metadata": {},
   "outputs": [
    {
     "name": "stdin",
     "output_type": "stream",
     "text": [
      " fwff\n"
     ]
    },
    {
     "ename": "TypeError",
     "evalue": "int() argument must be a string, a bytes-like object or a real number, not 'list'",
     "output_type": "error",
     "traceback": [
      "\u001b[1;31m---------------------------------------------------------------------------\u001b[0m",
      "\u001b[1;31mTypeError\u001b[0m                                 Traceback (most recent call last)",
      "Cell \u001b[1;32mIn[25], line 1\u001b[0m\n\u001b[1;32m----> 1\u001b[0m var\u001b[38;5;241m=\u001b[39m\u001b[38;5;28mint\u001b[39m(\u001b[38;5;28minput\u001b[39m()\u001b[38;5;241m.\u001b[39msplit())\n\u001b[0;32m      2\u001b[0m \u001b[38;5;28mprint\u001b[39m(var)\n",
      "\u001b[1;31mTypeError\u001b[0m: int() argument must be a string, a bytes-like object or a real number, not 'list'"
     ]
    }
   ],
   "source": [
    "var=int(input().split())\n",
    "print(var)"
   ]
  },
  {
   "cell_type": "code",
   "execution_count": 1,
   "id": "7170c2f6-74e0-4252-b995-4f7f0862ffd5",
   "metadata": {},
   "outputs": [
    {
     "name": "stdin",
     "output_type": "stream",
     "text": [
      " ee\n",
      " ee\n"
     ]
    },
    {
     "name": "stdout",
     "output_type": "stream",
     "text": [
      "ee\n"
     ]
    }
   ],
   "source": [
    "k=input()\n",
    "r=input()\n",
    "print (k)\n"
   ]
  },
  {
   "cell_type": "code",
   "execution_count": 17,
   "id": "de4e2839-9662-47a5-a654-7a85b7457dfd",
   "metadata": {},
   "outputs": [
    {
     "ename": "SyntaxError",
     "evalue": "'(' was never closed (2961918670.py, line 3)",
     "output_type": "error",
     "traceback": [
      "\u001b[1;36m  Cell \u001b[1;32mIn[17], line 3\u001b[1;36m\u001b[0m\n\u001b[1;33m    print(rob\u001b[0m\n\u001b[1;37m         ^\u001b[0m\n\u001b[1;31mSyntaxError\u001b[0m\u001b[1;31m:\u001b[0m '(' was never closed\n"
     ]
    }
   ],
   "source": [
    "var=input()\n",
    "rob=split (()\n",
    "print(rob"
   ]
  },
  {
   "cell_type": "code",
   "execution_count": 27,
   "id": "fb9ae6ce-4b7f-4f7f-bf40-c4c9011e1681",
   "metadata": {},
   "outputs": [
    {
     "name": "stdin",
     "output_type": "stream",
     "text": [
      " robion\n"
     ]
    },
    {
     "name": "stdout",
     "output_type": "stream",
     "text": [
      "r o b i o n\n"
     ]
    }
   ],
   "source": [
    "var=input()\n",
    "rob=\" \".join(var)\n",
    "print(rob)"
   ]
  },
  {
   "cell_type": "code",
   "execution_count": 35,
   "id": "406f49de-13ea-412c-b6ca-8c38af42948d",
   "metadata": {},
   "outputs": [
    {
     "name": "stdin",
     "output_type": "stream",
     "text": [
      "enter the number: 1\n",
      "enter the number: 2\n"
     ]
    },
    {
     "name": "stdout",
     "output_type": "stream",
     "text": [
      "1\n",
      "1\n"
     ]
    }
   ],
   "source": [
    "a=int(input(\"enter the number:\"))\n",
    "n=int(input(\"enter the number:\"))\n",
    "for _ in range(n):\n",
    "    print(a)"
   ]
  },
  {
   "cell_type": "code",
   "execution_count": 51,
   "id": "ae7af086-f6f8-4bee-97d1-6c20f6e5c550",
   "metadata": {},
   "outputs": [
    {
     "name": "stdin",
     "output_type": "stream",
     "text": [
      " 1\n",
      " 2\n",
      " 3\n"
     ]
    },
    {
     "name": "stdout",
     "output_type": "stream",
     "text": [
      "1 2 3\n"
     ]
    }
   ],
   "source": [
    "int_1=input()\n",
    "int_2=input()\n",
    "int_3=input()\n",
    "print(int_1,int_2,int_3)"
   ]
  },
  {
   "cell_type": "code",
   "execution_count": 59,
   "id": "c770d2cb-a4ba-4b58-83a2-12b8e882513d",
   "metadata": {},
   "outputs": [
    {
     "ename": "SyntaxError",
     "evalue": "invalid syntax. Maybe you meant '==' or ':=' instead of '='? (1169279043.py, line 1)",
     "output_type": "error",
     "traceback": [
      "\u001b[1;36m  Cell \u001b[1;32mIn[59], line 1\u001b[1;36m\u001b[0m\n\u001b[1;33m    int_1=input()==int_2=input()==int_3=input()\u001b[0m\n\u001b[1;37m    ^\u001b[0m\n\u001b[1;31mSyntaxError\u001b[0m\u001b[1;31m:\u001b[0m invalid syntax. Maybe you meant '==' or ':=' instead of '='?\n"
     ]
    }
   ],
   "source": [
    "int_1=input()==int_2=input()==int_3=input()\n",
    "print(int_1)\n",
    "print(int_2)\n",
    "print(int_3)"
   ]
  },
  {
   "cell_type": "code",
   "execution_count": 71,
   "id": "3e9816d0-3770-4162-9d60-ad18100630d2",
   "metadata": {},
   "outputs": [
    {
     "name": "stdin",
     "output_type": "stream",
     "text": [
      " 1.1.1.1\n"
     ]
    },
    {
     "name": "stdout",
     "output_type": "stream",
     "text": [
      "1.1.1.1\n"
     ]
    }
   ],
   "source": [
    "ron=input().split()\n",
    "for i in ron:\n",
    "    print(i)"
   ]
  },
  {
   "cell_type": "code",
   "execution_count": 79,
   "id": "3a8fbce2-d340-4431-97cf-04b2b7811faf",
   "metadata": {},
   "outputs": [
    {
     "name": "stdin",
     "output_type": "stream",
     "text": [
      " robinjoshua\n"
     ]
    },
    {
     "name": "stdout",
     "output_type": "stream",
     "text": [
      "r\n",
      "o\n",
      "b\n",
      "i\n",
      "n\n",
      "j\n",
      "o\n",
      "s\n",
      "h\n",
      "u\n",
      "a\n"
     ]
    }
   ],
   "source": [
    "rob=input()\n",
    "for i in rob:\n",
    "    print(i)"
   ]
  },
  {
   "cell_type": "code",
   "execution_count": 83,
   "id": "4c4e0e9c-331f-49ee-848f-56a8cc94c0a4",
   "metadata": {},
   "outputs": [
    {
     "name": "stdin",
     "output_type": "stream",
     "text": [
      " roibn\n"
     ]
    },
    {
     "name": "stdout",
     "output_type": "stream",
     "text": [
      "r,o,i,b,n\n"
     ]
    }
   ],
   "source": [
    "\n",
    "var=input()\n",
    "rob=\",\".join(var)\n",
    "print(rob)"
   ]
  },
  {
   "cell_type": "code",
   "execution_count": 85,
   "id": "e5718d0d-eb69-45a6-9be2-420fdb25d3d0",
   "metadata": {},
   "outputs": [
    {
     "name": "stdin",
     "output_type": "stream",
     "text": [
      " 2\n"
     ]
    },
    {
     "name": "stdout",
     "output_type": "stream",
     "text": [
      "2000\n",
      "20000\n"
     ]
    }
   ],
   "source": [
    "a=int(input())\n",
    "b=a*1000\n",
    "c=a*10000\n",
    "print(b)\n",
    "print(c)"
   ]
  },
  {
   "cell_type": "code",
   "execution_count": 95,
   "id": "1cf7dbf5-af9c-4f9a-89dc-5a9418d04a51",
   "metadata": {},
   "outputs": [
    {
     "name": "stdin",
     "output_type": "stream",
     "text": [
      " 4.6\n"
     ]
    },
    {
     "name": "stdout",
     "output_type": "stream",
     "text": [
      "odd\n"
     ]
    }
   ],
   "source": [
    "num=float(input())\n",
    "rob=round(num)\n",
    "if rob==0:\n",
    "    print(\"zero\")\n",
    "elif rob % 2==0:\n",
    "    print(\"even\")\n",
    "else:\n",
    "    print (\"odd\") \n",
    "    "
   ]
  },
  {
   "cell_type": "code",
   "execution_count": 103,
   "id": "a3343a42-c415-4c76-9c4c-da6d588479a2",
   "metadata": {},
   "outputs": [
    {
     "name": "stdin",
     "output_type": "stream",
     "text": [
      " 3\n"
     ]
    },
    {
     "name": "stdout",
     "output_type": "stream",
     "text": [
      "27\n"
     ]
    }
   ],
   "source": [
    "num=int(input())\n",
    "cube=num ** 3\n",
    "print(cube)"
   ]
  },
  {
   "cell_type": "code",
   "execution_count": 125,
   "id": "e18f9eb9-3ba8-40d0-97ac-1ebc6cf7189b",
   "metadata": {},
   "outputs": [
    {
     "name": "stdin",
     "output_type": "stream",
     "text": [
      " 3\n"
     ]
    },
    {
     "name": "stdout",
     "output_type": "stream",
     "text": [
      "3\n",
      "6\n",
      "9\n"
     ]
    }
   ],
   "source": [
    "num=int(input())\n",
    "for i in range(1,4):\n",
    "    nums=num*i\n",
    "    print (nums)"
   ]
  },
  {
   "cell_type": "code",
   "execution_count": 127,
   "id": "46c608b7-1cc7-42d5-b336-de18e77b2baf",
   "metadata": {},
   "outputs": [
    {
     "name": "stdin",
     "output_type": "stream",
     "text": [
      " 3\n"
     ]
    },
    {
     "name": "stdout",
     "output_type": "stream",
     "text": [
      "37.4\n"
     ]
    }
   ],
   "source": [
    "cel=int(input())\n",
    "fah=(cel*9/5)+32\n",
    "print(fah)"
   ]
  },
  {
   "cell_type": "code",
   "execution_count": 131,
   "id": "0feaadc5-a069-4cb7-9eaa-69c249211576",
   "metadata": {},
   "outputs": [
    {
     "name": "stdin",
     "output_type": "stream",
     "text": [
      " 12\n",
      " 1\n"
     ]
    },
    {
     "name": "stdout",
     "output_type": "stream",
     "text": [
      "1\n"
     ]
    }
   ],
   "source": [
    "a=int(input())\n",
    "b=int(input())\n",
    "small=min(a,b)\n",
    "print (small)"
   ]
  },
  {
   "cell_type": "code",
   "execution_count": 5,
   "id": "9a1678b3-5c16-4d50-877b-65c4a94bd07a",
   "metadata": {},
   "outputs": [
    {
     "name": "stdin",
     "output_type": "stream",
     "text": [
      " 10\n"
     ]
    },
    {
     "name": "stdout",
     "output_type": "stream",
     "text": [
      "2\n",
      "4\n",
      "6\n",
      "8\n",
      "10\n"
     ]
    }
   ],
   "source": [
    "num=int(input())\n",
    "for i in range (2,num +2,2):\n",
    "    print (i)"
   ]
  },
  {
   "cell_type": "code",
   "execution_count": 7,
   "id": "9c9f137d-7d10-4daa-986e-1ab4f9397671",
   "metadata": {},
   "outputs": [
    {
     "name": "stdin",
     "output_type": "stream",
     "text": [
      " 2\n",
      " 5\n"
     ]
    },
    {
     "name": "stdout",
     "output_type": "stream",
     "text": [
      "2\n",
      "2\n",
      "2\n",
      "2\n",
      "2\n"
     ]
    }
   ],
   "source": [
    "a=int(input())\n",
    "b=int(input())\n",
    "for _ in range(b):\n",
    "    print (a)"
   ]
  },
  {
   "cell_type": "code",
   "execution_count": 15,
   "id": "2fd479d6-dbb9-4cc5-abad-8ea2d966eaa1",
   "metadata": {},
   "outputs": [
    {
     "name": "stdin",
     "output_type": "stream",
     "text": [
      " robin jo\n"
     ]
    },
    {
     "name": "stdout",
     "output_type": "stream",
     "text": [
      "7\n"
     ]
    }
   ],
   "source": [
    "a=input()\n",
    "b=a.replace(\" \",\"\")\n",
    "c=len(b)\n",
    "print (c)"
   ]
  },
  {
   "cell_type": "code",
   "execution_count": 27,
   "id": "6d78fee2-66f5-4136-b85d-252aa9130bc0",
   "metadata": {},
   "outputs": [
    {
     "name": "stdin",
     "output_type": "stream",
     "text": [
      " 123\n"
     ]
    },
    {
     "name": "stdout",
     "output_type": "stream",
     "text": [
      "6\n"
     ]
    }
   ],
   "source": [
    "num=input()\n",
    "sums=sum(int(digit)for digit in num)\n",
    "print (sums)"
   ]
  },
  {
   "cell_type": "code",
   "execution_count": 29,
   "id": "cc177a21-9f13-4732-9715-2a414735a013",
   "metadata": {},
   "outputs": [
    {
     "name": "stdin",
     "output_type": "stream",
     "text": [
      " roibn\n"
     ]
    },
    {
     "name": "stdout",
     "output_type": "stream",
     "text": [
      "r o i b n\n"
     ]
    }
   ],
   "source": [
    "n=input()\n",
    "print (\" \".join(n))"
   ]
  },
  {
   "cell_type": "code",
   "execution_count": 33,
   "id": "625b2b59-de4d-4c4d-a339-666061afa4ed",
   "metadata": {},
   "outputs": [
    {
     "name": "stdin",
     "output_type": "stream",
     "text": [
      " 1000\n",
      " 2\n",
      " 5\n"
     ]
    },
    {
     "name": "stdout",
     "output_type": "stream",
     "text": [
      "100.00\n"
     ]
    }
   ],
   "source": [
    "p=float(input())\n",
    "r=float(input())\n",
    "t=float(input())\n",
    "si=(p*r*t)/100\n",
    "print (f\"{si:.2f}\")"
   ]
  },
  {
   "cell_type": "code",
   "execution_count": 25,
   "id": "b6cf2b32-d9ec-4295-99fc-5f229b4b6a3a",
   "metadata": {},
   "outputs": [
    {
     "name": "stdin",
     "output_type": "stream",
     "text": [
      " 3\n"
     ]
    },
    {
     "name": "stdout",
     "output_type": "stream",
     "text": [
      "9\n",
      "18\n",
      "27\n"
     ]
    }
   ],
   "source": [
    "n=int(input())\n",
    "if n==0:\n",
    "    print (\"null\")\n",
    "else:\n",
    "    for i in range (1,n+1):\n",
    "        print (9*i)"
   ]
  },
  {
   "cell_type": "code",
   "execution_count": 11,
   "id": "ee0f9f55-f355-4f28-b6dd-a9998de95ff6",
   "metadata": {},
   "outputs": [
    {
     "name": "stdin",
     "output_type": "stream",
     "text": [
      "enter the nmum -1\n"
     ]
    },
    {
     "name": "stdout",
     "output_type": "stream",
     "text": [
      "null\n"
     ]
    }
   ],
   "source": [
    "n=int(input(\"enter the nmum\"))\n",
    "if n<0:\n",
    "    print (\"null\")\n",
    "elif n==0:\n",
    "    print (\"zero\")\n",
    "else:\n",
    "    num=n**2\n",
    "    print (num)"
   ]
  },
  {
   "cell_type": "code",
   "execution_count": 23,
   "id": "f50ad83a-b8da-48ee-91b3-0fd0b8bc23f3",
   "metadata": {},
   "outputs": [
    {
     "name": "stdin",
     "output_type": "stream",
     "text": [
      "enter the nmum 5\n"
     ]
    },
    {
     "name": "stdout",
     "output_type": "stream",
     "text": [
      "31.41\n"
     ]
    }
   ],
   "source": [
    "n=float(input(\"enter the nmum\"))\n",
    "if n<0:\n",
    "    print (\"negative\")\n",
    "else:\n",
    "    circum=2*3.141*n\n",
    "    print(round(circum,2))"
   ]
  },
  {
   "cell_type": "code",
   "execution_count": null,
   "id": "503a28d5-db23-454c-8c27-1b32a39c438f",
   "metadata": {},
   "outputs": [],
   "source": [
    "n=int(input(\"enter the num\"))\n",
    "for i in range(n,100,1):\n",
    "    print (i)"
   ]
  },
  {
   "cell_type": "code",
   "execution_count": 51,
   "id": "64b15c7d-256a-40fd-b806-739e9e4888f2",
   "metadata": {},
   "outputs": [
    {
     "name": "stdin",
     "output_type": "stream",
     "text": [
      "enter the num: 2222\n"
     ]
    },
    {
     "ename": "TypeError",
     "evalue": "'int' object is not iterable",
     "output_type": "error",
     "traceback": [
      "\u001b[1;31m---------------------------------------------------------------------------\u001b[0m",
      "\u001b[1;31mTypeError\u001b[0m                                 Traceback (most recent call last)",
      "Cell \u001b[1;32mIn[51], line 2\u001b[0m\n\u001b[0;32m      1\u001b[0m n\u001b[38;5;241m=\u001b[39m\u001b[38;5;28mint\u001b[39m(\u001b[38;5;28minput\u001b[39m(\u001b[38;5;124m\"\u001b[39m\u001b[38;5;124menter the num:\u001b[39m\u001b[38;5;124m\"\u001b[39m))\n\u001b[1;32m----> 2\u001b[0m \u001b[38;5;28;01mfor\u001b[39;00m digits \u001b[38;5;129;01min\u001b[39;00m n:\n\u001b[0;32m      3\u001b[0m     \u001b[38;5;28;01mif\u001b[39;00m digits \u001b[38;5;241m%\u001b[39m \u001b[38;5;241m2\u001b[39m \u001b[38;5;241m==\u001b[39m \u001b[38;5;241m0\u001b[39m:\n\u001b[0;32m      4\u001b[0m         \u001b[38;5;28mprint\u001b[39m (\u001b[38;5;124m\"\u001b[39m\u001b[38;5;124meven\u001b[39m\u001b[38;5;124m\"\u001b[39m)\n",
      "\u001b[1;31mTypeError\u001b[0m: 'int' object is not iterable"
     ]
    }
   ],
   "source": [
    "n=int(input(\"enter the num:\"))\n",
    "for digits in n:\n",
    "    if digits % 2 == 0:\n",
    "        print (\"even\")\n",
    "else:\n",
    "    print(\"odd\")"
   ]
  },
  {
   "cell_type": "code",
   "execution_count": 27,
   "id": "b34d292c-ca92-4a04-aaf6-9383664b5fb0",
   "metadata": {},
   "outputs": [
    {
     "name": "stdin",
     "output_type": "stream",
     "text": [
      "enter the name: 4y\n"
     ]
    },
    {
     "ename": "NameError",
     "evalue": "name 'reverse' is not defined",
     "output_type": "error",
     "traceback": [
      "\u001b[1;31m---------------------------------------------------------------------------\u001b[0m",
      "\u001b[1;31mNameError\u001b[0m                                 Traceback (most recent call last)",
      "Cell \u001b[1;32mIn[27], line 2\u001b[0m\n\u001b[0;32m      1\u001b[0m \u001b[38;5;28mlist\u001b[39m\u001b[38;5;241m=\u001b[39m\u001b[38;5;28minput\u001b[39m(\u001b[38;5;124m\"\u001b[39m\u001b[38;5;124menter the name:\u001b[39m\u001b[38;5;124m\"\u001b[39m)\n\u001b[1;32m----> 2\u001b[0m list1\u001b[38;5;241m=\u001b[39mreverse\u001b[38;5;241m.\u001b[39mlist()\n\u001b[0;32m      3\u001b[0m \u001b[38;5;28mprint\u001b[39m (list1)\n",
      "\u001b[1;31mNameError\u001b[0m: name 'reverse' is not defined"
     ]
    }
   ],
   "source": [
    "list=input(\"enter the name:\")\n",
    "list1=reverse.list()\n",
    "print (list1)"
   ]
  },
  {
   "cell_type": "code",
   "execution_count": 29,
   "id": "1a929af6-51b8-4f0b-be4a-e59f1a0cf735",
   "metadata": {},
   "outputs": [],
   "source": [
    "class Account:\n",
    "    pass"
   ]
  },
  {
   "cell_type": "code",
   "execution_count": 31,
   "id": "83b74898-49e1-4faf-aca2-b0ab401dca8e",
   "metadata": {},
   "outputs": [],
   "source": [
    "class Account:\n",
    "    def __init__(self,name,last_name,city,user_id,password,phone):#attributes/arguments\n",
    "#data initialization(registering the information)        \n",
    "        # use is standard self use , we can give any name but use thaat only through out code .\n",
    "        self.name       =name \n",
    "        self.last_name  =last_name\n",
    "        self.city       =city\n",
    "        self.user_id    =user_id\n",
    "        self.password   =password\n",
    "        self.phone      =phone "
   ]
  },
  {
   "cell_type": "code",
   "execution_count": 33,
   "id": "9c9090e3-de14-4872-be0d-ffebc3801675",
   "metadata": {},
   "outputs": [
    {
     "name": "stdin",
     "output_type": "stream",
     "text": [
      "enter your name=  t\n",
      "enter lastname= 424\n",
      "enter city name= 31\n",
      "enter user_id= 44\n",
      "enter the password= t42trg\n"
     ]
    }
   ],
   "source": [
    "class Account:\n",
    "    def _init_ (self,name =input(\"enter your name= \"),\n",
    "                last_name =input(\"enter lastname=\"),\n",
    "                city      =input(\"enter city name=\"),\n",
    "                user_id   =input(\"enter user_id=\"),\n",
    "                password  =input(\"enter the password=\")):\n",
    "        \n",
    "        self.name     =name\n",
    "        self.last_name=last_name\n",
    "        self.city     =city\n",
    "        self.user_id  =user_id\n",
    "        self.password =password\n",
    "        \n",
    "        \n",
    "    def login(self):\n",
    "        attempts=1\n",
    "        \n",
    "        while True:\n",
    "            \n",
    "            signin=input(\"enter your user_id=\")\n",
    "            password=input(\"password:\")\n",
    "\n",
    "        \n",
    "            \n",
    "            if signin==self.user_id and password==self.password:\n",
    "                print(\"succesfully loged in\")\n",
    "                break\n",
    "            else:\n",
    "                \n",
    "                if attempts ==3:\n",
    "                    print(\"max attempts reached\")\n",
    "                    break\n",
    "                    \n",
    "                else:\n",
    "                    print(\"user_id or pass is invalid\")\n",
    "                    attempts+=1\n",
    "                    continue\n",
    "            "
   ]
  },
  {
   "cell_type": "code",
   "execution_count": 35,
   "id": "bf0bc0c6-9bb9-40e1-8739-b0936aa25c23",
   "metadata": {},
   "outputs": [],
   "source": [
    "bank=Account()"
   ]
  },
  {
   "cell_type": "code",
   "execution_count": 37,
   "id": "9e2f7e4d-6815-4c21-ad54-ecf0e702da19",
   "metadata": {},
   "outputs": [
    {
     "name": "stdin",
     "output_type": "stream",
     "text": [
      "enter your user_id= th\n",
      "password: jej\n"
     ]
    },
    {
     "ename": "AttributeError",
     "evalue": "'Account' object has no attribute 'user_id'",
     "output_type": "error",
     "traceback": [
      "\u001b[1;31m---------------------------------------------------------------------------\u001b[0m",
      "\u001b[1;31mAttributeError\u001b[0m                            Traceback (most recent call last)",
      "Cell \u001b[1;32mIn[37], line 1\u001b[0m\n\u001b[1;32m----> 1\u001b[0m bank\u001b[38;5;241m.\u001b[39mlogin()\n",
      "Cell \u001b[1;32mIn[33], line 25\u001b[0m, in \u001b[0;36mAccount.login\u001b[1;34m(self)\u001b[0m\n\u001b[0;32m     20\u001b[0m signin\u001b[38;5;241m=\u001b[39m\u001b[38;5;28minput\u001b[39m(\u001b[38;5;124m\"\u001b[39m\u001b[38;5;124menter your user_id=\u001b[39m\u001b[38;5;124m\"\u001b[39m)\n\u001b[0;32m     21\u001b[0m password\u001b[38;5;241m=\u001b[39m\u001b[38;5;28minput\u001b[39m(\u001b[38;5;124m\"\u001b[39m\u001b[38;5;124mpassword:\u001b[39m\u001b[38;5;124m\"\u001b[39m)\n\u001b[1;32m---> 25\u001b[0m \u001b[38;5;28;01mif\u001b[39;00m signin\u001b[38;5;241m==\u001b[39m\u001b[38;5;28mself\u001b[39m\u001b[38;5;241m.\u001b[39muser_id \u001b[38;5;129;01mand\u001b[39;00m password\u001b[38;5;241m==\u001b[39m\u001b[38;5;28mself\u001b[39m\u001b[38;5;241m.\u001b[39mpassword:\n\u001b[0;32m     26\u001b[0m     \u001b[38;5;28mprint\u001b[39m(\u001b[38;5;124m\"\u001b[39m\u001b[38;5;124msuccesfully loged in\u001b[39m\u001b[38;5;124m\"\u001b[39m)\n\u001b[0;32m     27\u001b[0m     \u001b[38;5;28;01mbreak\u001b[39;00m\n",
      "\u001b[1;31mAttributeError\u001b[0m: 'Account' object has no attribute 'user_id'"
     ]
    }
   ],
   "source": [
    "bank.login()"
   ]
  },
  {
   "cell_type": "code",
   "execution_count": 9,
   "id": "03565116-77a9-42be-98b2-96c0209f65c1",
   "metadata": {},
   "outputs": [
    {
     "name": "stdin",
     "output_type": "stream",
     "text": [
      "Enter your name =  egwe\n",
      "enter last name =  hheh\n",
      "enter city name=  qh\n",
      "enter preferred user_id=  11\n",
      "Chose your password=  33\n",
      "enyer your phone number=  hehq\n"
     ]
    }
   ],
   "source": [
    "class Account: \n",
    "    def __init__(self,name = input(\"Enter your name = \"),\n",
    "        last_name  =input(\"enter last name = \"),\n",
    "        city       =input(\"enter city name= \"),\n",
    "        user_id    =input(\"enter preferred user_id= \"),\n",
    "        password   =input(\"Chose your password= \"),\n",
    "        phone      =input(\"enyer your phone number= \")):\n",
    "                 \n",
    "                 \n",
    "#data initialization \n",
    "                 \n",
    "        self.name       =name \n",
    "        self.last_name  =last_name\n",
    "        self.city       =city\n",
    "        self.user_id    =user_id\n",
    "        self.password   =password\n",
    "        self.phone      =phone        \n",
    "\n",
    "                 \n",
    "    def login(self):\n",
    "        attempts = 1\n",
    "        \n",
    "        while True:\n",
    "            \n",
    "            signin =input('enter your User-ID')\n",
    "            password =input('Password- ')\n",
    "            \n",
    "            \n",
    "            if signin ==self.user_id and password ==self.password:\n",
    "                print('Succesfully logged in ')\n",
    "                break\n",
    "            else:\n",
    "                \n",
    "                if attempts ==3:\n",
    "                    print(\"Maximum attempts reached ,call  customercare to reset password\")\n",
    "                    break\n",
    "                    \n",
    "                else:\n",
    "                    print(\"user ID or Password invalid \")\n",
    "                    attempts+=1\n",
    "                    continue"
   ]
  },
  {
   "cell_type": "code",
   "execution_count": 11,
   "id": "1b5b1947-a695-4c0f-b9f4-d8cd0de8bcbe",
   "metadata": {},
   "outputs": [],
   "source": [
    "bank=Account()"
   ]
  },
  {
   "cell_type": "code",
   "execution_count": 13,
   "id": "8a9d66d0-f876-4eaf-af87-88bf4c56b8f9",
   "metadata": {},
   "outputs": [
    {
     "name": "stdin",
     "output_type": "stream",
     "text": [
      "enter your User-ID 11\n",
      "Password-  33\n"
     ]
    },
    {
     "name": "stdout",
     "output_type": "stream",
     "text": [
      "Succesfully logged in \n"
     ]
    }
   ],
   "source": [
    "bank.login()"
   ]
  }
 ],
 "metadata": {
  "kernelspec": {
   "display_name": "Python 3 (ipykernel)",
   "language": "python",
   "name": "python3"
  },
  "language_info": {
   "codemirror_mode": {
    "name": "ipython",
    "version": 3
   },
   "file_extension": ".py",
   "mimetype": "text/x-python",
   "name": "python",
   "nbconvert_exporter": "python",
   "pygments_lexer": "ipython3",
   "version": "3.11.5"
  }
 },
 "nbformat": 4,
 "nbformat_minor": 5
}
